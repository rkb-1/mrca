{
  "cells": [
    {
      "cell_type": "markdown",
      "metadata": {
        "id": "view-in-github",
        "colab_type": "text"
      },
      "source": [
        "<a href=\"https://colab.research.google.com/github/rkb-1/mrca/blob/master/SCARA_Kinematics.ipynb\" target=\"_parent\"><img src=\"https://colab.research.google.com/assets/colab-badge.svg\" alt=\"Open In Colab\"/></a>"
      ]
    },
    {
      "cell_type": "markdown",
      "id": "f7f4a669",
      "metadata": {
        "id": "f7f4a669"
      },
      "source": [
        "# Forward Kinematic Analysis of SCARA robot"
      ]
    },
    {
      "cell_type": "markdown",
      "id": "0b487dd3",
      "metadata": {
        "id": "0b487dd3"
      },
      "source": [
        "![picture](https://drive.google.com/uc?export=view&id=1A-A9vGlx-TqWX7HH776gvCHnsl50wX9v)\n",
        "Source: Modern Robotics, 2017 "
      ]
    },
    {
      "cell_type": "markdown",
      "id": "59ee956b",
      "metadata": {
        "id": "59ee956b"
      },
      "source": [
        "**SCARA Pick and Place Robot Arm**\n",
        "The SCARA is a type of industrial robot. The acronym stands for Selective Compliance Assembly Robot Arm. It is of type RRRP with three revolute joints and one prismatic joint connecting the links in series respectively."
      ]
    },
    {
      "cell_type": "code",
      "execution_count": null,
      "id": "f13f0d86",
      "metadata": {
        "id": "f13f0d86"
      },
      "outputs": [],
      "source": [
        "# Import required libraries\n",
        "import numpy as np\n",
        "from sympy import Matrix, symbols, pretty_print, Identity, cos, sin, zeros, simplify"
      ]
    },
    {
      "cell_type": "markdown",
      "id": "495760e9",
      "metadata": {
        "id": "495760e9"
      },
      "source": [
        "## Spatial Representation of Screw axes\n"
      ]
    },
    {
      "cell_type": "code",
      "execution_count": null,
      "id": "5ae6d6b4",
      "metadata": {
        "id": "5ae6d6b4"
      },
      "outputs": [],
      "source": [
        "l1, l2, l0 = symbols(\"l1 l2 l0\", real=1)  # link lenghts"
      ]
    },
    {
      "cell_type": "code",
      "execution_count": null,
      "id": "de51c27c",
      "metadata": {
        "id": "de51c27c"
      },
      "outputs": [],
      "source": [
        "s1_hat = Matrix([0,0,1])\n",
        "s1_o = Matrix([0,0,0])\n",
        "display(s1_hat,s1_o)"
      ]
    },
    {
      "cell_type": "code",
      "execution_count": null,
      "id": "c9760626",
      "metadata": {
        "id": "c9760626"
      },
      "outputs": [],
      "source": [
        "s2_hat = Matrix([0,0,1])\n",
        "s2_o = Matrix([0,l1,0])\n",
        "display(s2_hat,s2_o)"
      ]
    },
    {
      "cell_type": "code",
      "execution_count": null,
      "id": "e3e1f992",
      "metadata": {
        "id": "e3e1f992"
      },
      "outputs": [],
      "source": [
        "s3_hat = Matrix([0,0,1])\n",
        "s3_o = Matrix([0,l1+l2,0])\n",
        "display(s3_hat,s3_o)"
      ]
    },
    {
      "cell_type": "code",
      "execution_count": null,
      "id": "82de1b6b",
      "metadata": {
        "id": "82de1b6b"
      },
      "outputs": [],
      "source": [
        "## Prismatic joint\n",
        "s4_hat = Matrix([0,0,1])\n",
        "display(s4_hat)"
      ]
    },
    {
      "cell_type": "code",
      "execution_count": null,
      "id": "5f5eeff7",
      "metadata": {
        "id": "5f5eeff7"
      },
      "outputs": [],
      "source": [
        "S1 = Matrix([s1_hat, s1_o.cross(s1_hat)])\n",
        "S2 = Matrix([s2_hat, s2_o.cross(s2_hat)])\n",
        "S3 = Matrix([s3_hat, s3_o.cross(s3_hat)])\n",
        "S4 = Matrix([Matrix([0,0,0]), s4_hat])\n",
        "print(\"S1:\")\n",
        "display(S1)\n",
        "print(\"S2:\")\n",
        "display(S2)\n",
        "print(\"S3:\")\n",
        "display(S3)\n",
        "print(\"S4:\")\n",
        "display(S4)\n",
        "S = S1.row_join(S2).row_join(S3).row_join(S4)\n",
        "print(\"Screw axes (arranged column wise for the joints) :\\n\")\n",
        "display(S)"
      ]
    },
    {
      "cell_type": "markdown",
      "id": "85a0b6f9",
      "metadata": {
        "id": "85a0b6f9"
      },
      "source": [
        "## Reference configuration of the end effector at zero position\n",
        "A general configuration is given by a rotation matrix $\\mathbf{R}$ and position vector $\\mathbf{p}$ as follows.\n",
        "\\begin{equation}\n",
        "        \\mathbf{T} = \\begin{bmatrix}\n",
        "                \\mathbf{R} & \\textbf{p} \\\\ \\mathbf{0} & 1\n",
        "            \\end{bmatrix}\n",
        "    \\end{equation}\n",
        "\n"
      ]
    },
    {
      "cell_type": "code",
      "execution_count": null,
      "id": "266ca861",
      "metadata": {
        "scrolled": true,
        "id": "266ca861"
      },
      "outputs": [],
      "source": [
        "p_0_ee = Matrix([ 0, l1+l2 , l0 ])\n",
        "R_0_ee = Matrix(Identity(3))\n",
        "T_0_ee = R_0_ee.row_join(p_0_ee).col_join(Matrix([0, 0, 0, 1]).T)\n",
        "print(\"Zero configuration of end-effector pose: \\n\")\n",
        "display(T_0_ee)"
      ]
    },
    {
      "cell_type": "markdown",
      "id": "21519060",
      "metadata": {
        "id": "21519060"
      },
      "source": [
        "## Product of Exponential definition\n",
        "\n",
        "Let $ \\mathbf S = (\\boldsymbol \\xi, \\boldsymbol \\eta) $ denote the screw coordinates. \n",
        "The matrix exponential is defined as $\\exp: [\\mathbf S] \\theta \\in se(3) \\to \\mathbf T \\in SE(3)$. \n",
        " \n",
        "If $||{\\boldsymbol \\xi}|| = 1$ then for any distance $\\theta \\in \\mathbb{R}$ traveled along the screw axis or any angle $\\theta \\in \\mathbb{R}$ rotated about the screw axis,\n",
        "\\begin{equation}\n",
        " \\mathbf T = \n",
        "  \\exp{[\\mathbf S] \\theta} \n",
        "  = \\left[\n",
        "\\begin{matrix}\n",
        "\\exp{[\\boldsymbol \\xi] \\theta} & (\\mathbf I \\theta + (1-\\cos \\theta)[\\boldsymbol \\xi] + (\\theta - \\sin \\theta)[\\boldsymbol \\xi]^2) \\boldsymbol \\eta\\\\\n",
        "\\mathbf 0 & 1\n",
        "\\end{matrix}\n",
        " \\right] \\in SE(3)\n",
        " \\end{equation}\n",
        "where, \n",
        "\\begin{equation}\n",
        "\\mathbf R = \\exp{[\\boldsymbol \\xi] \\theta} = \\mathbf I + \\sin \\theta[\\boldsymbol \\xi] + (1 - \\cos \\theta)[\\boldsymbol \\xi]^2 \\in SO(3) \n",
        "\\end{equation}\n",
        "and\n",
        "\\begin{equation}\n",
        "\\mathbf p = (\\mathbf I \\theta + (1-\\cos \\theta)[\\boldsymbol \\xi] + (\\theta - \\sin \\theta)[\\boldsymbol \\xi]^2) \\boldsymbol \\eta \\in \\mathbb R^3 \n",
        "\\end{equation}\n",
        "If $||{\\boldsymbol \\xi}|| = 0$ and $||{\\boldsymbol \\eta}|| = 1$ (prismatic joints), then\n",
        " \\begin{equation}\n",
        "  \\mathbf T = \n",
        "  \\exp{[\\mathbf S] \\theta} \n",
        "  = \\left[\n",
        "\\begin{matrix}\n",
        "\\mathbf I &  \\boldsymbol \\eta \\theta\\\\\n",
        "\\mathbf 0 & 1\n",
        "\\end{matrix}\n",
        " \\right] \\in SE(3) \n",
        " \\end{equation}\n",
        "\n",
        "\n",
        "\n",
        "\n",
        "### The product of exponential (POE) formula is given by\n",
        "\\begin{equation}\n",
        "  {}^0\\mathbf T_n(\\mathbf q) = \\exp([\\mathbf S_1]q_1) \\exp([\\mathbf S_2]q_2) \\ldots \\exp([\\mathbf S_n]q_n) {}^0\\mathbf T_n(\\mathbf 0) \n",
        "  \\label{eqn_POE}\n",
        " \\end{equation}\n"
      ]
    },
    {
      "cell_type": "code",
      "execution_count": null,
      "id": "fb04facc",
      "metadata": {
        "id": "fb04facc"
      },
      "outputs": [],
      "source": [
        "def SE3Exp(XX, t):\n",
        "        \"\"\"compute exponential mapping for SE(3).\n",
        "        \"\"\"\n",
        "        X = XX.T\n",
        "        xi = Matrix(X[0:3])\n",
        "        eta = Matrix(X[3:6])\n",
        "        xihat = Matrix([[0, -xi[2], xi[1]],\n",
        "                        [xi[2], 0, -xi[0]],\n",
        "                        [-xi[1], xi[0], 0]])\n",
        "        R = Matrix(Identity(3)) + sin(t)*xihat + (1-cos(t))*(xihat*xihat)\n",
        "        if xi == zeros(3, 1):\n",
        "            p = eta * t\n",
        "        else:\n",
        "            p = Matrix(Identity(3)*t + (1-cos(t))*xihat + (t-sin(t))*(xihat*xihat))*eta\n",
        "        T = R.row_join(p).col_join(Matrix([0, 0, 0, 1]).T)\n",
        "        return T\n",
        "print(\"Matrix exponential for screw axis 3 : \\n\")\n",
        "display(SE3Exp(S3,symbols(\"x\")))#example"
      ]
    },
    {
      "cell_type": "markdown",
      "id": "5cff465b",
      "metadata": {
        "id": "5cff465b"
      },
      "source": [
        "## Forward Kinematics Using POE formula\n",
        "### Define the generalised coordinates for the system, $q_1 \\dots q_6$"
      ]
    },
    {
      "cell_type": "code",
      "execution_count": null,
      "id": "61034138",
      "metadata": {
        "id": "61034138"
      },
      "outputs": [],
      "source": [
        "q1, q2, q3, q4 = symbols(\"q1 q2 q3 q4\", real=1)  # joint positions\n",
        "T_0_q = simplify(SE3Exp(S1,q1) * SE3Exp(S2,q2) * SE3Exp(S3,q3) * SE3Exp(S4,q4) * T_0_ee)\n",
        "print(\"Forward kinematics : \\n\")\n",
        "display(T_0_q)"
      ]
    },
    {
      "cell_type": "markdown",
      "id": "192158bc",
      "metadata": {
        "id": "192158bc"
      },
      "source": [
        "### Substitute with numerical values\n",
        "q1 = 0\n",
        "q2 = np.pi/2\n",
        "q3 = -np.pi/2\n",
        "q4 = 1\n",
        "l0 = l1 = l2 = 1"
      ]
    },
    {
      "cell_type": "code",
      "execution_count": null,
      "id": "ca6ff84c",
      "metadata": {
        "id": "ca6ff84c"
      },
      "outputs": [],
      "source": [
        "fkin= T_0_q.evalf(4, subs={q1:0, q2:np.pi/2, q3:-np.pi/2, q4:1,\n",
        "                          l0: 1, l1: 1, l2: 1})\n",
        "print(\"Forward kinematics for the input joint angles: \\n\")\n",
        "display(fkin)"
      ]
    },
    {
      "cell_type": "markdown",
      "id": "48513cb0",
      "metadata": {
        "id": "48513cb0"
      },
      "source": [
        "# Using Modern Robotics toolbox"
      ]
    },
    {
      "cell_type": "code",
      "execution_count": null,
      "id": "cc1e4273",
      "metadata": {
        "id": "cc1e4273"
      },
      "outputs": [],
      "source": [
        "# Import required libraries\n",
        "!pip install modern_robotics\n",
        "import modern_robotics as mr"
      ]
    },
    {
      "cell_type": "code",
      "execution_count": null,
      "id": "5ec4a3fe",
      "metadata": {
        "id": "5ec4a3fe"
      },
      "outputs": [],
      "source": [
        "Slist = np.asarray(S.subs({l0: 1, l1: 1, l2: 1})).astype(np.float64)\n",
        "T_zero = np.asarray(T_0_ee.subs({l0: 1, l1: 1, l2: 1})).astype(np.float64)\n",
        "q=np.asarray([0, np.pi/2, -np.pi/2, 1])\n",
        "print(\"List of screw axes: \\n\", Slist)\n",
        "print(\"Zero configuration pose of end effector frame: \\n\", T_zero)\n",
        "print(\"Input angles: \\n\", q)"
      ]
    },
    {
      "cell_type": "code",
      "execution_count": null,
      "id": "3e07b448",
      "metadata": {
        "id": "3e07b448"
      },
      "outputs": [],
      "source": [
        "fkin_mr = mr.FKinSpace(T_zero,Slist,q)\n",
        "display(fkin_mr)"
      ]
    },
    {
      "cell_type": "markdown",
      "id": "2159c705",
      "metadata": {
        "id": "2159c705"
      },
      "source": [
        "# Inverse Kinematics of SCARA"
      ]
    },
    {
      "cell_type": "code",
      "execution_count": null,
      "id": "6fc5fd18",
      "metadata": {
        "id": "6fc5fd18"
      },
      "outputs": [],
      "source": [
        "from sympy import Eq, solve\n",
        "# T_q = T_0_q.subs({l0: 1, l1: 1, l2: 1})\n",
        "T_q = T_0_q\n",
        "T_q\n"
      ]
    },
    {
      "cell_type": "code",
      "execution_count": null,
      "id": "5db51afe",
      "metadata": {
        "id": "5db51afe"
      },
      "outputs": [],
      "source": [
        "x, y, z, phi = symbols(\"x y z phi\", real=1)"
      ]
    },
    {
      "cell_type": "code",
      "execution_count": null,
      "id": "58960ca1",
      "metadata": {
        "id": "58960ca1"
      },
      "outputs": [],
      "source": [
        "x_ = T_q[0,3]\n",
        "y_ = T_q[1,3]\n",
        "z_ = T_q[2,3]"
      ]
    },
    {
      "cell_type": "markdown",
      "id": "3ef24491",
      "metadata": {
        "id": "3ef24491"
      },
      "source": [
        "## Solve for $q_4$"
      ]
    },
    {
      "cell_type": "code",
      "execution_count": null,
      "id": "a00a3dbc",
      "metadata": {
        "id": "a00a3dbc"
      },
      "outputs": [],
      "source": [
        "q4_sol = solve(Eq(z-z_),q4)\n",
        "q4_sol[0]"
      ]
    },
    {
      "cell_type": "markdown",
      "id": "b5ce0baa",
      "metadata": {
        "id": "b5ce0baa"
      },
      "source": [
        "## Solve for $q_2$"
      ]
    },
    {
      "cell_type": "code",
      "execution_count": null,
      "id": "d51f6c43",
      "metadata": {
        "id": "d51f6c43"
      },
      "outputs": [],
      "source": [
        "f1 = (x**2 +  y**2)\n",
        "f2 = (x_**2 +  y_**2)\n",
        "eq1 = simplify(Eq(f1-f2))\n",
        "eq1"
      ]
    },
    {
      "cell_type": "code",
      "execution_count": null,
      "id": "0769cdf5",
      "metadata": {
        "id": "0769cdf5"
      },
      "outputs": [],
      "source": [
        "sol = solve(eq1,q2)\n",
        "sol[1]"
      ]
    },
    {
      "cell_type": "markdown",
      "id": "eb572ae5",
      "metadata": {
        "id": "eb572ae5"
      },
      "source": [
        "## Solve for $q_1$"
      ]
    },
    {
      "cell_type": "code",
      "execution_count": null,
      "id": "fac79f9e",
      "metadata": {
        "id": "fac79f9e"
      },
      "outputs": [],
      "source": [
        "f3 = simplify(-x*sin(q1) + y* cos(q1))\n",
        "f3"
      ]
    },
    {
      "cell_type": "code",
      "execution_count": null,
      "id": "dfb20e28",
      "metadata": {
        "id": "dfb20e28"
      },
      "outputs": [],
      "source": [
        "f4 = simplify(x_*(-sin(q1)) + y_*(cos(q1)))\n",
        "simplify(f4)"
      ]
    },
    {
      "cell_type": "code",
      "execution_count": null,
      "id": "bfa5deee",
      "metadata": {
        "id": "bfa5deee"
      },
      "outputs": [],
      "source": [
        "eq2 = simplify(Eq(f3-f4))\n",
        "eq2"
      ]
    },
    {
      "cell_type": "code",
      "execution_count": null,
      "id": "ec693575",
      "metadata": {
        "id": "ec693575"
      },
      "outputs": [],
      "source": [
        "f5 = simplify(x*cos(q1) + y*sin(q1))\n",
        "f5"
      ]
    },
    {
      "cell_type": "code",
      "execution_count": null,
      "id": "800f299a",
      "metadata": {
        "id": "800f299a"
      },
      "outputs": [],
      "source": [
        "f6 = simplify(x_*cos(q1) + y_*sin(q1))\n",
        "f6"
      ]
    },
    {
      "cell_type": "code",
      "execution_count": null,
      "id": "9f735c7c",
      "metadata": {
        "id": "9f735c7c"
      },
      "outputs": [],
      "source": [
        "eq3 = (Eq(f5/f3 - f6/f4))\n",
        "eq3"
      ]
    },
    {
      "cell_type": "markdown",
      "id": "db8c35ab",
      "metadata": {
        "id": "db8c35ab"
      },
      "source": [
        "## Sovle for $q_3$"
      ]
    },
    {
      "cell_type": "code",
      "execution_count": null,
      "id": "c64fe708",
      "metadata": {
        "id": "c64fe708"
      },
      "outputs": [],
      "source": [
        "q3_sol = solve(Eq(phi-(q1+q2+q3)),q3)\n",
        "q3_sol[0]"
      ]
    },
    {
      "cell_type": "code",
      "execution_count": null,
      "id": "629b6754",
      "metadata": {
        "id": "629b6754"
      },
      "outputs": [],
      "source": [
        ""
      ]
    },
    {
      "cell_type": "code",
      "execution_count": null,
      "id": "4b3928c7",
      "metadata": {
        "id": "4b3928c7"
      },
      "outputs": [],
      "source": [
        ""
      ]
    }
  ],
  "metadata": {
    "kernelspec": {
      "display_name": "Python 3 (ipykernel)",
      "language": "python",
      "name": "python3"
    },
    "language_info": {
      "codemirror_mode": {
        "name": "ipython",
        "version": 3
      },
      "file_extension": ".py",
      "mimetype": "text/x-python",
      "name": "python",
      "nbconvert_exporter": "python",
      "pygments_lexer": "ipython3",
      "version": "3.8.10"
    },
    "colab": {
      "name": "SCARA-Kinematics.ipynb",
      "provenance": [],
      "collapsed_sections": [],
      "include_colab_link": true
    }
  },
  "nbformat": 4,
  "nbformat_minor": 5
}