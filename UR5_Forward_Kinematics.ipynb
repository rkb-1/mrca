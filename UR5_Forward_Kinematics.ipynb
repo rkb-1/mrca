{
  "cells": [
    {
      "cell_type": "markdown",
      "metadata": {
        "id": "view-in-github",
        "colab_type": "text"
      },
      "source": [
        "<a href=\"https://colab.research.google.com/github/rkb-1/mrca/blob/master/UR5_Forward_Kinematics.ipynb\" target=\"_parent\"><img src=\"https://colab.research.google.com/assets/colab-badge.svg\" alt=\"Open In Colab\"/></a>"
      ]
    },
    {
      "cell_type": "markdown",
      "id": "f7f4a669",
      "metadata": {
        "id": "f7f4a669"
      },
      "source": [
        "# Forward Kinematic Analysis of UR5 6R robot arm"
      ]
    },
    {
      "cell_type": "markdown",
      "id": "0b487dd3",
      "metadata": {
        "id": "0b487dd3"
      },
      "source": [
        "![picture](https://drive.google.com/uc?export=view&id=1YpDjtZiImtlOFIHhDU00im2a4f9rykjC)\n",
        "Source: Modern Robotics, 2017 "
      ]
    },
    {
      "cell_type": "markdown",
      "id": "59ee956b",
      "metadata": {
        "id": "59ee956b"
      },
      "source": [
        "**Universal Robots’ UR5 6R robot arm**\n",
        "It consists of 6 revolute joints that connect the links in a serial chain. The above figure shows the screw axes $\\mathbf S_1 \\dots \\mathbf S_6$ when the robot is at its zero position.\n",
        "\n",
        "Dimensions : $W_1$= 109 mm , $W_2$ = 82 mm, $L_1$ = 425 mm, $L_2$ = 392 mm, $H_1$ = 89 mm,\n",
        "$H_2$ = 95 mm"
      ]
    },
    {
      "cell_type": "code",
      "execution_count": null,
      "id": "f13f0d86",
      "metadata": {
        "id": "f13f0d86"
      },
      "outputs": [],
      "source": [
        "# Import required libraries\n",
        "import numpy as np\n",
        "from sympy import Matrix, symbols, Identity, cos, sin, zeros, simplify"
      ]
    },
    {
      "cell_type": "markdown",
      "id": "495760e9",
      "metadata": {
        "id": "495760e9"
      },
      "source": [
        "## Spatial Representation of Screw axes\n"
      ]
    },
    {
      "cell_type": "code",
      "execution_count": null,
      "id": "fe4e53f1",
      "metadata": {
        "id": "fe4e53f1"
      },
      "outputs": [],
      "source": [
        "L_1, L_2, W_1, W_2, H_1, H_2 = symbols(\"L_1 L_2 W_1 W_2 H_1 H_2\", real=1)  # link lenghts"
      ]
    },
    {
      "cell_type": "code",
      "execution_count": null,
      "id": "b53b4667",
      "metadata": {
        "id": "b53b4667"
      },
      "outputs": [],
      "source": [
        "s1_hat = Matrix([0,0,1])\n",
        "s1_o = Matrix([0,0,0])\n",
        "display(s1_hat,s1_o)\n"
      ]
    },
    {
      "cell_type": "code",
      "execution_count": null,
      "id": "06420a89",
      "metadata": {
        "id": "06420a89"
      },
      "outputs": [],
      "source": [
        "s2_hat = Matrix([0,1,0])\n",
        "s2_o = Matrix([0,0,H_1])\n",
        "display(s2_hat,s2_o)"
      ]
    },
    {
      "cell_type": "code",
      "execution_count": null,
      "id": "1c3696ef",
      "metadata": {
        "id": "1c3696ef"
      },
      "outputs": [],
      "source": [
        "s3_hat = Matrix([0,1,0])\n",
        "s3_o = Matrix([L_1,0,H_1])\n",
        "display(s3_hat,s3_o)"
      ]
    },
    {
      "cell_type": "code",
      "execution_count": null,
      "id": "17374d4f",
      "metadata": {
        "id": "17374d4f"
      },
      "outputs": [],
      "source": [
        "s4_hat = Matrix([0,1,0])\n",
        "s4_o = Matrix([L_1+L_2,0,H_1])\n",
        "display(s4_hat,s4_o)"
      ]
    },
    {
      "cell_type": "code",
      "execution_count": null,
      "id": "96ca90b2",
      "metadata": {
        "id": "96ca90b2"
      },
      "outputs": [],
      "source": [
        "s5_hat = Matrix([0,0,-1])\n",
        "s5_o = Matrix([L_1+L_2,W_1,H_1])\n",
        "display(s5_hat,s5_o)"
      ]
    },
    {
      "cell_type": "code",
      "execution_count": null,
      "id": "9b0858e1",
      "metadata": {
        "id": "9b0858e1"
      },
      "outputs": [],
      "source": [
        "s6_hat = Matrix([0,1,0])\n",
        "s6_o = Matrix([L_1+L_2,W_1+W_2,H_1-H_2])\n",
        "display(s6_hat,s6_o)"
      ]
    },
    {
      "cell_type": "code",
      "execution_count": null,
      "id": "5f5eeff7",
      "metadata": {
        "id": "5f5eeff7"
      },
      "outputs": [],
      "source": [
        "S1 = Matrix([s1_hat, s1_o.cross(s1_hat)])\n",
        "S2 = Matrix([s2_hat, s2_o.cross(s2_hat)])\n",
        "S3 = Matrix([s3_hat, s3_o.cross(s3_hat)])\n",
        "S4 = Matrix([s4_hat, s4_o.cross(s4_hat)])\n",
        "S5 = Matrix([s5_hat, s5_o.cross(s5_hat)])\n",
        "S6 = Matrix([s6_hat, s6_o.cross(s6_hat)])\n",
        "print(\"S1:\")\n",
        "display(S1)\n",
        "print(\"S2:\")\n",
        "display(S2)\n",
        "print(\"S3:\")\n",
        "display(S3)\n",
        "print(\"S4:\")\n",
        "display(S4)\n",
        "print(\"S5:\")\n",
        "display(S5)\n",
        "print(\"S6:\")\n",
        "display(S6)\n",
        "S = S1.row_join(S2).row_join(S3).row_join(S4).row_join(S5).row_join(S6) \n",
        "print(\"Screw axes (arranged column wise for the joints) :\\n\")\n",
        "display(S)"
      ]
    },
    {
      "cell_type": "markdown",
      "id": "85a0b6f9",
      "metadata": {
        "id": "85a0b6f9"
      },
      "source": [
        "## Reference configuration of the end effector at zero position\n",
        "A general configuration is given by a rotation matrix $\\mathbf{R}$ and position vector $\\mathbf{p}$ as follows.\n",
        "\\begin{equation}\n",
        "        \\mathbf{T} = \\begin{bmatrix}\n",
        "                \\mathbf{R} & \\textbf{p} \\\\ \\mathbf{0} & 1\n",
        "            \\end{bmatrix}\n",
        "    \\end{equation}\n",
        "\n"
      ]
    },
    {
      "cell_type": "code",
      "execution_count": null,
      "id": "6bc738dd",
      "metadata": {
        "id": "6bc738dd"
      },
      "outputs": [],
      "source": [
        "def rot_axisz(theta):\n",
        "    \"\"\"Returns a rotation matrix for a rotation of theta (in radians) about\n",
        "    the 3-axis.\n",
        "    [...]\n",
        "    \"\"\"\n",
        "    lil = ((cos(theta), -sin(theta), 0),\n",
        "           (sin(theta),  cos(theta), 0),\n",
        "           (       0  ,       0   ,  1))\n",
        "    return Matrix(lil)\n",
        "def rot_axisx(theta):\n",
        "    \"\"\"Returns a rotation matrix for a rotation of theta (in radians) about\n",
        "    the 3-axis.\n",
        "    [...]\n",
        "    \"\"\"\n",
        "    lil = ((1,       0   ,      0     ),\n",
        "           (0, cos(theta), -sin(theta)),\n",
        "           (0, sin(theta),  cos(theta)))\n",
        "    return Matrix(lil)\n",
        "def rot_axisy(theta):\n",
        "    \"\"\"Returns a rotation matrix for a rotation of theta (in radians) about\n",
        "    the 3-axis.\n",
        "    [...]\n",
        "    \"\"\"\n",
        "    lil = (( cos(theta), 0, sin(theta)),\n",
        "           (      0    , 1,     0     ),\n",
        "           (-sin(theta), 0, cos(theta)))\n",
        "    return Matrix(lil)"
      ]
    },
    {
      "cell_type": "code",
      "execution_count": null,
      "id": "266ca861",
      "metadata": {
        "scrolled": true,
        "id": "266ca861"
      },
      "outputs": [],
      "source": [
        "p_0_ee = Matrix([ L_1 + L_2, W_1 + W_2 , H_1 - H_2 ])\n",
        "R_0_ee = Matrix(rot_axisy(np.pi)*rot_axisx(-np.pi/2)) ## R_0_ee = R_y*R_x\n",
        "T_0_ee = R_0_ee.row_join(p_0_ee).col_join(Matrix([0, 0, 0, 1]).T)\n",
        "print(\"Zero configuration of end-effector pose: \\n\")\n",
        "display(T_0_ee)"
      ]
    },
    {
      "cell_type": "markdown",
      "id": "21519060",
      "metadata": {
        "id": "21519060"
      },
      "source": [
        "## Product of Exponential definition\n",
        "\n",
        "Let $ \\mathbf S = (\\boldsymbol \\xi, \\boldsymbol \\eta) $ denote the screw coordinates. \n",
        "The matrix exponential is defined as $\\exp: [\\mathbf S] \\theta \\in se(3) \\to \\mathbf T \\in SE(3)$. \n",
        " \n",
        "If $||{\\boldsymbol \\xi}|| = 1$ then for any distance $\\theta \\in \\mathbb{R}$ traveled along the screw axis or any angle $\\theta \\in \\mathbb{R}$ rotated about the screw axis,\n",
        "\\begin{equation}\n",
        " \\mathbf T = \n",
        "  \\exp{[\\mathbf S] \\theta} \n",
        "  = \\left[\n",
        "\\begin{matrix}\n",
        "\\exp{[\\boldsymbol \\xi] \\theta} & (\\mathbf I \\theta + (1-\\cos \\theta)[\\boldsymbol \\xi] + (\\theta - \\sin \\theta)[\\boldsymbol \\xi]^2) \\boldsymbol \\eta\\\\\n",
        "\\mathbf 0 & 1\n",
        "\\end{matrix}\n",
        " \\right] \\in SE(3)\n",
        " \\end{equation}\n",
        "where, \n",
        "\\begin{equation}\n",
        "\\mathbf R = \\exp{[\\boldsymbol \\xi] \\theta} = \\mathbf I + \\sin \\theta[\\boldsymbol \\xi] + (1 - \\cos \\theta)[\\boldsymbol \\xi]^2 \\in SO(3) \n",
        "\\end{equation}\n",
        "and\n",
        "\\begin{equation}\n",
        "\\mathbf p = (\\mathbf I \\theta + (1-\\cos \\theta)[\\boldsymbol \\xi] + (\\theta - \\sin \\theta)[\\boldsymbol \\xi]^2) \\boldsymbol \\eta \\in \\mathbb R^3 \n",
        "\\end{equation}\n",
        "If $||{\\boldsymbol \\xi}|| = 0$ and $||{\\boldsymbol \\eta}|| = 1$ (prismatic joints), then\n",
        " \\begin{equation}\n",
        "  \\mathbf T = \n",
        "  \\exp{[\\mathbf S] \\theta} \n",
        "  = \\left[\n",
        "\\begin{matrix}\n",
        "\\mathbf I &  \\boldsymbol \\eta \\theta\\\\\n",
        "\\mathbf 0 & 1\n",
        "\\end{matrix}\n",
        " \\right] \\in SE(3) \n",
        " \\end{equation}\n",
        "\n",
        "\n",
        "\n",
        "\n",
        "### The product of exponential (POE) formula is given by\n",
        "\\begin{equation}\n",
        "  {}^0\\mathbf T_n(\\mathbf q) = \\exp([\\mathbf S_1]q_1) \\exp([\\mathbf S_2]q_2) \\ldots \\exp([\\mathbf S_n]q_n) {}^0\\mathbf T_n(\\mathbf 0) \n",
        "\\end{equation}\n"
      ]
    },
    {
      "cell_type": "code",
      "execution_count": null,
      "id": "fb04facc",
      "metadata": {
        "id": "fb04facc"
      },
      "outputs": [],
      "source": [
        "def SE3Exp(XX, t):\n",
        "        \"\"\"compute exponential mapping for SE(3).\n",
        "        \"\"\"\n",
        "        X = XX.T\n",
        "        xi = Matrix(X[0:3])\n",
        "        eta = Matrix(X[3:6])\n",
        "        xihat = Matrix([[0, -xi[2], xi[1]],\n",
        "                        [xi[2], 0, -xi[0]],\n",
        "                        [-xi[1], xi[0], 0]])\n",
        "        R = Matrix(Identity(3)) + sin(t)*xihat + (1-cos(t))*(xihat*xihat)\n",
        "        p = Matrix(Identity(3)*t + (1-cos(t))*xihat + (t-sin(t))*(xihat*xihat))*eta\n",
        "        T = R.row_join(p).col_join(Matrix([0, 0, 0, 1]).T)\n",
        "        return T\n",
        "print(\"Matrix exponential for screw axis 3 : \\n\")\n",
        "display(SE3Exp(S3,symbols(\"x\")))#example"
      ]
    },
    {
      "cell_type": "markdown",
      "id": "5cff465b",
      "metadata": {
        "id": "5cff465b"
      },
      "source": [
        "## Forward Kinematics Using POE formula\n",
        "### Define the generalised coordinates for the system, $q_1 \\dots q_6$"
      ]
    },
    {
      "cell_type": "code",
      "execution_count": null,
      "id": "61034138",
      "metadata": {
        "id": "61034138"
      },
      "outputs": [],
      "source": [
        "q1, q2, q3, q4, q5, q6 = symbols(\"q1 q2 q3 q4 q5 q6\", real=1)  # joint positions\n",
        "T_0_q = simplify(SE3Exp(S1,q1) * SE3Exp(S2,q2) * SE3Exp(S3,q3) * \n",
        "                 SE3Exp(S4,q4) * SE3Exp(S5,q5) * SE3Exp(S6,q6) * T_0_ee)"
      ]
    },
    {
      "cell_type": "code",
      "execution_count": null,
      "id": "26fa2777",
      "metadata": {
        "id": "26fa2777"
      },
      "outputs": [],
      "source": [
        "display(T_0_q)"
      ]
    },
    {
      "cell_type": "markdown",
      "id": "192158bc",
      "metadata": {
        "id": "192158bc"
      },
      "source": [
        "### Substitute with numerical values\n",
        "$q1$ = 0\n",
        "$q2$ = -pi/2\n",
        "$q3$ = 0\n",
        "$q4$ = 0\n",
        "$q5$ = pi/2\n",
        "$q6$ = 0\n",
        "$W_1$ = 0.109 \n",
        "$W_2$ = 0.082 \n",
        "$L_1$ = 0.425 \n",
        "$L_2$ = 0.392 \n",
        "$H_1$ = 0.089\n",
        "$H_2$ = 0.095"
      ]
    },
    {
      "cell_type": "code",
      "execution_count": null,
      "id": "ca6ff84c",
      "metadata": {
        "id": "ca6ff84c"
      },
      "outputs": [],
      "source": [
        "fkin= T_0_q.evalf(4, subs={q1:0, q2:-np.pi/2, q3:0, q4:0, q5:np.pi/2, q6:0,\n",
        "                          W_1: 0.109, W_2: 0.082,\n",
        "                          L_1: 0.425, L_2: 0.392,\n",
        "                          H_1: 0.089, H_2: 0.095})\n",
        "print(\"Forward kinematics for the input joint angles: \\n\")\n",
        "display(fkin)"
      ]
    },
    {
      "cell_type": "code",
      "source": [
        ""
      ],
      "metadata": {
        "id": "GibujrZmXEhw"
      },
      "id": "GibujrZmXEhw",
      "execution_count": null,
      "outputs": []
    }
  ],
  "metadata": {
    "kernelspec": {
      "display_name": "Python 3 (ipykernel)",
      "language": "python",
      "name": "python3"
    },
    "language_info": {
      "codemirror_mode": {
        "name": "ipython",
        "version": 3
      },
      "file_extension": ".py",
      "mimetype": "text/x-python",
      "name": "python",
      "nbconvert_exporter": "python",
      "pygments_lexer": "ipython3",
      "version": "3.8.10"
    },
    "colab": {
      "name": "UR5-Forward-Kinematics.ipynb",
      "provenance": [],
      "collapsed_sections": [],
      "include_colab_link": true
    }
  },
  "nbformat": 4,
  "nbformat_minor": 5
}