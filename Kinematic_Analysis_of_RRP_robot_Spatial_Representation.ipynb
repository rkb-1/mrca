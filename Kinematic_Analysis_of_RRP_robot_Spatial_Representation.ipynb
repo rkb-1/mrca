{
  "cells": [
    {
      "cell_type": "markdown",
      "metadata": {
        "id": "view-in-github",
        "colab_type": "text"
      },
      "source": [
        "<a href=\"https://colab.research.google.com/github/rkb-1/mrca/blob/master/Kinematic_Analysis_of_RRP_robot_Spatial_Representation.ipynb\" target=\"_parent\"><img src=\"https://colab.research.google.com/assets/colab-badge.svg\" alt=\"Open In Colab\"/></a>"
      ]
    },
    {
      "cell_type": "markdown",
      "id": "8428a94f",
      "metadata": {
        "id": "8428a94f"
      },
      "source": [
        "# Tutorial: Kinematics of Open loop chains - Spatial Representation\n",
        "-Rohit Kumar (r.kumar@dfki.de)"
      ]
    },
    {
      "cell_type": "markdown",
      "id": "04af1308",
      "metadata": {
        "id": "04af1308"
      },
      "source": [
        "## Helper functions"
      ]
    },
    {
      "cell_type": "code",
      "execution_count": 20,
      "id": "8df6822f",
      "metadata": {
        "id": "8df6822f"
      },
      "outputs": [],
      "source": [
        "# Import required libraries\n",
        "import numpy as np\n",
        "from sympy import Matrix, symbols, Identity, cos, sin, zeros, simplify, init_printing, print_latex\n",
        "\n",
        "def SE3AdjInvMatrix(C):\n",
        "    \"\"\"Compute Inverse of (6x6) Adjoint Matrix for SE(3)\n",
        "\n",
        "    Args:\n",
        "        C ([type]): [description]\n",
        "\n",
        "    Returns:\n",
        "        sympy.Matrix: Inverse of (6x6) Adjoint Matrix\n",
        "    \"\"\"\n",
        "    AdInv = Matrix([[C[0, 0], C[1, 0], C[2, 0], 0, 0, 0],\n",
        "                    [C[0, 1], C[1, 1], C[2, 1], 0, 0, 0],\n",
        "                    [C[0, 2], C[1, 2], C[2, 2], 0, 0, 0],\n",
        "                    [-C[2, 3]*C[1, 0]+C[1, 3]*C[2, 0], C[2, 3]*C[0, 0]-C[0, 3]*C[2, 0],\n",
        "                        (-C[1, 3])*C[0, 0]+C[0, 3]*C[1, 0], C[0, 0], C[1, 0], C[2, 0]],\n",
        "                    [-C[2, 3]*C[1, 1]+C[1, 3]*C[2, 1], C[2, 3]*C[0, 1]-C[0, 3]*C[2, 1],\n",
        "                        (-C[1, 3])*C[0, 1]+C[0, 3]*C[1, 1], C[0, 1], C[1, 1], C[2, 1]],\n",
        "                    [-C[2, 3]*C[1, 2]+C[1, 3]*C[2, 2], C[2, 3]*C[0, 2]-C[0, 3]*C[2, 2],\n",
        "                        (-C[1, 3])*C[0, 2]+C[0, 3]*C[1, 2], C[0, 2], C[1, 2], C[2, 2]]])\n",
        "    return AdInv\n",
        "\n",
        "def SE3AdjMatrix(C):\n",
        "    \"\"\"Compute (6x6) Adjoint Matrix for SE(3)\n",
        "\n",
        "    Args:\n",
        "        C ([type]): [description]\n",
        "\n",
        "    Returns:\n",
        "    sympy.Matrix: (6x6) Adjoint Matrix\n",
        "    \"\"\"\n",
        "    Ad = Matrix([[C[0, 0], C[0, 1], C[0, 2], 0, 0, 0],\n",
        "                 [C[1, 0], C[1, 1], C[1, 2], 0, 0, 0],\n",
        "                 [C[2, 0], C[2, 1], C[2, 2], 0, 0, 0],\n",
        "                 [-C[2, 3]*C[1, 0]+C[1, 3]*C[2, 0], -C[2, 3]*C[1, 1]+C[1, 3]*C[2, 1],\n",
        "                  -C[2, 3]*C[1, 2]+C[1, 3]*C[2, 2], C[0, 0], C[0, 1], C[0, 2]],\n",
        "                 [C[2, 3]*C[0, 0]-C[0, 3]*C[2, 0],  C[2, 3]*C[0, 1]-C[0, 3]*C[2, 1],\n",
        "                     C[2, 3]*C[0, 2]-C[0, 3]*C[2, 2], C[1, 0], C[1, 1], C[1, 2]],\n",
        "                 [-C[1, 3]*C[0, 0]+C[0, 3]*C[1, 0], -C[1, 3]*C[0, 1]+C[0, 3]*C[1, 1],\n",
        "                  -C[1, 3]*C[0, 2]+C[0, 3]*C[1, 2], C[2, 0], C[2, 1], C[2, 2]]])\n",
        "    return Ad\n",
        "\n",
        "def SE3adMatrix(X):\n",
        "    \"\"\"Compute (6x6) adjoint Matrix for SE(3) \n",
        "        - also known as spatial cross product in the literature.\n",
        "\n",
        "    Args:\n",
        "        X ([type]): [description]\n",
        "\n",
        "    Returns:\n",
        "        sympy.Matrix: (6x6) adjoint Matrix\n",
        "    \"\"\"\n",
        "    ad = Matrix([[0, -X[2, 0], X[1, 0], 0, 0, 0],\n",
        "                 [X[2, 0], 0, -X[0, 0], 0, 0, 0],\n",
        "                 [-X[1, 0], X[0, 0], 0, 0, 0, 0],\n",
        "                 [0, -X[5, 0], X[4, 0], 0, -X[2, 0], X[1, 0]],\n",
        "                 [X[5, 0], 0, -X[3, 0], X[2, 0], 0, -X[0, 0]],\n",
        "                 [-X[4, 0], X[3, 0], 0, -X[1, 0], X[0, 0], 0]])\n",
        "    return ad\n",
        "\n",
        "def SE3Exp(XX, t):\n",
        "    \"\"\"compute exponential mapping for SE(3).\n",
        "\n",
        "    Args:\n",
        "        XX ([type]): [description]\n",
        "        t ([type]): [description]\n",
        "\n",
        "    Returns:\n",
        "        [type]: [description]\n",
        "    \"\"\"\n",
        "    X = XX.T\n",
        "    xi = Matrix(X[0:3])\n",
        "    eta = Matrix(X[3:6])\n",
        "    xihat = Matrix([[0, -xi[2], xi[1]],\n",
        "                    [xi[2], 0, -xi[0]],\n",
        "                    [-xi[1], xi[0], 0]])\n",
        "    R = Matrix(Identity(3)) + sin(t)*xihat + (1-cos(t))*(xihat*xihat)\n",
        "    if xi == zeros(3, 1):\n",
        "        p = eta * t\n",
        "    else:\n",
        "        p = Matrix(Identity(3)*t + (1-cos(t))*xihat + (t-sin(t))*(xihat*xihat))*eta\n",
        "    C = R.row_join(p).col_join(Matrix([0, 0, 0, 1]).T)\n",
        "    return C\n",
        "\n",
        "def SE3Inv(C):\n",
        "    \"\"\"Compute analytical inverse of exponential mapping for SE(3).\n",
        "\n",
        "    Args:\n",
        "        C ([type]): [description]\n",
        "\n",
        "    Returns:\n",
        "        [type]: [description]\n",
        "    \"\"\"\n",
        "    CInv = Matrix([[C[0, 0], C[1, 0], C[2, 0], -C[0, 0]*C[0, 3]-C[1, 0]*C[1, 3]-C[2, 0]*C[2, 3]],\n",
        "                   [C[0, 1], C[1, 1], C[2, 1], -C[0, 1] *\n",
        "                       C[0, 3]-C[1, 1]*C[1, 3]-C[2, 1]*C[2, 3]],\n",
        "                   [C[0, 2], C[1, 2], C[2, 2], -C[0, 2] *\n",
        "                       C[0, 3]-C[1, 2]*C[1, 3]-C[2, 2]*C[2, 3]],\n",
        "                   [0, 0, 0, 1]])\n",
        "    return CInv\n",
        "\n",
        "def SO3Exp(x, t):\n",
        "    \"\"\"Compute exponential mapping for SO(3) (Rotation Matrix).\n",
        "\n",
        "    Args:\n",
        "        x (sympy.Matrix): Rotation axis\n",
        "        t (double): Rotation angle\n",
        "\n",
        "    Returns:\n",
        "        sympy.Matrix: Rotation Matrix\n",
        "    \"\"\"\n",
        "    xhat = Matrix([[0, -x[2, 0], x[1, 0]],\n",
        "                   [x[2, 0], 0, -x[0, 0]],\n",
        "                   [-x[1, 0], x[0, 0], 0]])\n",
        "    R = Matrix(Identity(3)) + sin(t) * xhat + (1-cos(t))*(xhat*xhat)\n",
        "    return R\n",
        "\n",
        "def InertiaMatrix(Ixx, Ixy, Ixz, Iyy, Iyz, Izz):\n",
        "    I = Matrix([[Ixx, Ixy, Ixz],\n",
        "                [Ixy, Iyy, Iyz],\n",
        "                [Ixz, Iyz, Izz]])\n",
        "    return I\n",
        "\n",
        "def TransformationMatrix(r=Matrix(Identity(3)), t=zeros(3, 1)):\n",
        "    \"\"\"Build Transformation matrix from rotation and translation\n",
        "\n",
        "    Args:\n",
        "        r (sympy.Matrix): SO(3) Rotation matrix (3,3). Defaults to sympy.Matrix(Identity(3))\n",
        "        t (sympy.Matrix): Translation vector (3,1). Defaults to sympy.zeros(3,1)\n",
        "\n",
        "    Returns:\n",
        "        sympy.Matrix: Transformation matrix\n",
        "    \"\"\"\n",
        "    T = r.row_join(t).col_join(Matrix([[0, 0, 0, 1]]))\n",
        "    return T\n",
        "\n",
        "def MassMatrixMixedData(m, Theta, COM):\n",
        "    \"\"\"Build mass-inertia matrix in SE(3) from mass, inertia and center of mass information.\n",
        "\n",
        "    Args:\n",
        "        m (float): Mass.\n",
        "        Theta (sympy.Matrix): Inertia.\n",
        "        COM (sympy.Matrix): Center of Mass.\n",
        "\n",
        "    Returns:\n",
        "        sympy.Matrix: Mass-inertia Matrix.\n",
        "    \"\"\"\n",
        "    M = Matrix([[Theta[0, 0], Theta[0, 1], Theta[0, 2], 0, (-COM[2])*m, COM[1]*m],\n",
        "                [Theta[0, 1], Theta[1, 1], Theta[1, 2],\n",
        "                    COM[2]*m, 0, (-COM[0]*m)],\n",
        "                [Theta[0, 2], Theta[1, 2], Theta[2, 2],\n",
        "                    (-COM[1])*m, COM[0]*m, 0],  \n",
        "                [0, COM[2]*m, (-COM[1]*m), m, 0, 0],\n",
        "                [(-COM[2])*m, 0, COM[0]*m, 0, m, 0],\n",
        "                [COM[1]*m, (-COM[0])*m, 0, 0, 0, m]])\n",
        "    return M"
      ]
    },
    {
      "cell_type": "markdown",
      "id": "f7f4a669",
      "metadata": {
        "id": "f7f4a669"
      },
      "source": [
        "# Kinematic Analysis of RRP robot"
      ]
    },
    {
      "cell_type": "markdown",
      "id": "f10a4d31",
      "metadata": {
        "id": "f10a4d31"
      },
      "source": [
        "![picture](https://drive.google.com/uc?export=view&id=1JYMjAVi0WXi56IbYKLWqYV_ASSMInpe2)\n"
      ]
    },
    {
      "cell_type": "markdown",
      "id": "495760e9",
      "metadata": {
        "id": "495760e9"
      },
      "source": [
        "## Spatial Representation of Screw axes\n"
      ]
    },
    {
      "cell_type": "code",
      "execution_count": 21,
      "id": "5ae6d6b4",
      "metadata": {
        "id": "5ae6d6b4"
      },
      "outputs": [],
      "source": [
        "l = symbols(\"l\", real=1)  # link lenghts"
      ]
    },
    {
      "cell_type": "code",
      "execution_count": 22,
      "id": "de51c27c",
      "metadata": {
        "colab": {
          "base_uri": "https://localhost:8080/",
          "height": 139
        },
        "id": "de51c27c",
        "outputId": "e9f67e96-0202-45d4-a61a-db1aeaa732c1"
      },
      "outputs": [
        {
          "output_type": "display_data",
          "data": {
            "text/plain": [
              "Matrix([\n",
              "[1],\n",
              "[0],\n",
              "[0]])"
            ],
            "text/latex": "$\\displaystyle \\left[\\begin{matrix}1\\\\0\\\\0\\end{matrix}\\right]$"
          },
          "metadata": {}
        },
        {
          "output_type": "display_data",
          "data": {
            "text/plain": [
              "Matrix([\n",
              "[0],\n",
              "[0],\n",
              "[0]])"
            ],
            "text/latex": "$\\displaystyle \\left[\\begin{matrix}0\\\\0\\\\0\\end{matrix}\\right]$"
          },
          "metadata": {}
        }
      ],
      "source": [
        "s1_hat = Matrix([1,0,0])\n",
        "s1_o = Matrix([0,0,0])\n",
        "display(s1_hat,s1_o)"
      ]
    },
    {
      "cell_type": "code",
      "execution_count": 23,
      "id": "c9760626",
      "metadata": {
        "colab": {
          "base_uri": "https://localhost:8080/",
          "height": 139
        },
        "id": "c9760626",
        "outputId": "1b667df8-c13b-47c3-f7e4-f41203d97d79"
      },
      "outputs": [
        {
          "output_type": "display_data",
          "data": {
            "text/plain": [
              "Matrix([\n",
              "[0],\n",
              "[1],\n",
              "[0]])"
            ],
            "text/latex": "$\\displaystyle \\left[\\begin{matrix}0\\\\1\\\\0\\end{matrix}\\right]$"
          },
          "metadata": {}
        },
        {
          "output_type": "display_data",
          "data": {
            "text/plain": [
              "Matrix([\n",
              "[0],\n",
              "[0],\n",
              "[0]])"
            ],
            "text/latex": "$\\displaystyle \\left[\\begin{matrix}0\\\\0\\\\0\\end{matrix}\\right]$"
          },
          "metadata": {}
        }
      ],
      "source": [
        "s2_hat = Matrix([0,1,0])\n",
        "s2_o = Matrix([0,0,0])\n",
        "display(s2_hat,s2_o)"
      ]
    },
    {
      "cell_type": "code",
      "execution_count": 24,
      "id": "e3e1f992",
      "metadata": {
        "colab": {
          "base_uri": "https://localhost:8080/",
          "height": 78
        },
        "id": "e3e1f992",
        "outputId": "51c7292e-1aa8-41b1-9d33-70f6518e3038"
      },
      "outputs": [
        {
          "output_type": "display_data",
          "data": {
            "text/plain": [
              "Matrix([\n",
              "[0],\n",
              "[0],\n",
              "[1]])"
            ],
            "text/latex": "$\\displaystyle \\left[\\begin{matrix}0\\\\0\\\\1\\end{matrix}\\right]$"
          },
          "metadata": {}
        }
      ],
      "source": [
        "s3_hat = Matrix([0,0,1])\n",
        "display(s3_hat)"
      ]
    },
    {
      "cell_type": "code",
      "execution_count": 25,
      "id": "5f5eeff7",
      "metadata": {
        "colab": {
          "base_uri": "https://localhost:8080/",
          "height": 592
        },
        "id": "5f5eeff7",
        "outputId": "f7d12f5e-83f3-4156-bb98-153ddddc7504"
      },
      "outputs": [
        {
          "output_type": "stream",
          "name": "stdout",
          "text": [
            "S1:\n"
          ]
        },
        {
          "output_type": "display_data",
          "data": {
            "text/plain": [
              "Matrix([\n",
              "[1],\n",
              "[0],\n",
              "[0],\n",
              "[0],\n",
              "[0],\n",
              "[0]])"
            ],
            "text/latex": "$\\displaystyle \\left[\\begin{matrix}1\\\\0\\\\0\\\\0\\\\0\\\\0\\end{matrix}\\right]$"
          },
          "metadata": {}
        },
        {
          "output_type": "stream",
          "name": "stdout",
          "text": [
            "S2:\n"
          ]
        },
        {
          "output_type": "display_data",
          "data": {
            "text/plain": [
              "Matrix([\n",
              "[0],\n",
              "[1],\n",
              "[0],\n",
              "[0],\n",
              "[0],\n",
              "[0]])"
            ],
            "text/latex": "$\\displaystyle \\left[\\begin{matrix}0\\\\1\\\\0\\\\0\\\\0\\\\0\\end{matrix}\\right]$"
          },
          "metadata": {}
        },
        {
          "output_type": "stream",
          "name": "stdout",
          "text": [
            "S3:\n"
          ]
        },
        {
          "output_type": "display_data",
          "data": {
            "text/plain": [
              "Matrix([\n",
              "[0],\n",
              "[0],\n",
              "[0],\n",
              "[0],\n",
              "[0],\n",
              "[1]])"
            ],
            "text/latex": "$\\displaystyle \\left[\\begin{matrix}0\\\\0\\\\0\\\\0\\\\0\\\\1\\end{matrix}\\right]$"
          },
          "metadata": {}
        },
        {
          "output_type": "stream",
          "name": "stdout",
          "text": [
            "Screw axes (arranged column wise for the joints) :\n",
            "\n"
          ]
        },
        {
          "output_type": "display_data",
          "data": {
            "text/plain": [
              "Matrix([\n",
              "[1, 0, 0],\n",
              "[0, 1, 0],\n",
              "[0, 0, 0],\n",
              "[0, 0, 0],\n",
              "[0, 0, 0],\n",
              "[0, 0, 1]])"
            ],
            "text/latex": "$\\displaystyle \\left[\\begin{matrix}1 & 0 & 0\\\\0 & 1 & 0\\\\0 & 0 & 0\\\\0 & 0 & 0\\\\0 & 0 & 0\\\\0 & 0 & 1\\end{matrix}\\right]$"
          },
          "metadata": {}
        }
      ],
      "source": [
        "S1 = Matrix([s1_hat, s1_o.cross(s1_hat)])\n",
        "S2 = Matrix([s2_hat, s2_o.cross(s2_hat)])\n",
        "S3 = Matrix([Matrix([0,0,0]), s3_hat])\n",
        "print(\"S1:\")\n",
        "display(S1)\n",
        "print(\"S2:\")\n",
        "display(S2)\n",
        "print(\"S3:\")\n",
        "display(S3)\n",
        "S = S1.row_join(S2).row_join(S3)\n",
        "print(\"Screw axes (arranged column wise for the joints) :\\n\")\n",
        "display(S)"
      ]
    },
    {
      "cell_type": "markdown",
      "id": "85a0b6f9",
      "metadata": {
        "id": "85a0b6f9"
      },
      "source": [
        "## Reference configuration of the bodies (body fixed representation) at zero position\n",
        "A general configuration is given by a rotation matrix $\\mathbf{R}$ and position vector $\\mathbf{p}$ as follows.\n",
        "\\begin{equation}\n",
        "        \\mathbf{T} = \\begin{bmatrix}\n",
        "                \\mathbf{R} & \\textbf{p} \\\\ \\mathbf{0} & 1\n",
        "            \\end{bmatrix}\n",
        "    \\end{equation}\n",
        "\n"
      ]
    },
    {
      "cell_type": "code",
      "execution_count": 26,
      "id": "266ca861",
      "metadata": {
        "scrolled": true,
        "colab": {
          "base_uri": "https://localhost:8080/",
          "height": 133
        },
        "id": "266ca861",
        "outputId": "c0f26e78-2170-4c42-91a7-9d95c7ae7084"
      },
      "outputs": [
        {
          "output_type": "stream",
          "name": "stdout",
          "text": [
            "Zero configuration of end-effector pose: \n",
            "\n"
          ]
        },
        {
          "output_type": "display_data",
          "data": {
            "text/plain": [
              "Matrix([\n",
              "[1, 0, 0, 0],\n",
              "[0, 1, 0, 0],\n",
              "[0, 0, 1, l],\n",
              "[0, 0, 0, 1]])"
            ],
            "text/latex": "$\\displaystyle \\left[\\begin{matrix}1 & 0 & 0 & 0\\\\0 & 1 & 0 & 0\\\\0 & 0 & 1 & l\\\\0 & 0 & 0 & 1\\end{matrix}\\right]$"
          },
          "metadata": {}
        }
      ],
      "source": [
        "p0e = Matrix([0,0,l])\n",
        "R0e = Matrix(Identity(3))\n",
        "\n",
        "T0e = TransformationMatrix(R0e,p0e)\n",
        "\n",
        "print(\"Zero configuration of end-effector pose: \\n\")\n",
        "display(T0e)"
      ]
    },
    {
      "cell_type": "markdown",
      "id": "21519060",
      "metadata": {
        "id": "21519060"
      },
      "source": [
        "## Position Analysis\n",
        "\n",
        "### The product of exponential (POE) formula is given by\n",
        "\\begin{equation}\n",
        "  {}^0\\mathbf T_n(\\mathbf q) = \\exp([\\mathbf S_1]q_1) \\exp([\\mathbf S_2]q_2) \\ldots \\exp([\\mathbf S_n]q_n) {}^0\\mathbf T_n(\\mathbf 0) \n",
        "  \\label{eqn_POE}\n",
        " \\end{equation}\n"
      ]
    },
    {
      "cell_type": "markdown",
      "id": "5cff465b",
      "metadata": {
        "id": "5cff465b"
      },
      "source": [
        "### Define the generalised coordinates for the system, $q_1$ $q_2$ $q_3$"
      ]
    },
    {
      "cell_type": "code",
      "execution_count": 27,
      "id": "61034138",
      "metadata": {
        "colab": {
          "base_uri": "https://localhost:8080/",
          "height": 133
        },
        "id": "61034138",
        "outputId": "9337e2f9-5c8b-497c-f845-544b3bd984ca"
      },
      "outputs": [
        {
          "output_type": "stream",
          "name": "stdout",
          "text": [
            "Forward kinematics : \n",
            "\n"
          ]
        },
        {
          "output_type": "display_data",
          "data": {
            "text/plain": [
              "Matrix([\n",
              "[         cos(q2),       0,          sin(q2),          (l + q3)*sin(q2)],\n",
              "[ sin(q1)*sin(q2), cos(q1), -sin(q1)*cos(q2), -(l + q3)*sin(q1)*cos(q2)],\n",
              "[-sin(q2)*cos(q1), sin(q1),  cos(q1)*cos(q2),  (l + q3)*cos(q1)*cos(q2)],\n",
              "[               0,       0,                0,                         1]])"
            ],
            "text/latex": "$\\displaystyle \\left[\\begin{matrix}\\cos{\\left(q_{2} \\right)} & 0 & \\sin{\\left(q_{2} \\right)} & \\left(l + q_{3}\\right) \\sin{\\left(q_{2} \\right)}\\\\\\sin{\\left(q_{1} \\right)} \\sin{\\left(q_{2} \\right)} & \\cos{\\left(q_{1} \\right)} & - \\sin{\\left(q_{1} \\right)} \\cos{\\left(q_{2} \\right)} & - \\left(l + q_{3}\\right) \\sin{\\left(q_{1} \\right)} \\cos{\\left(q_{2} \\right)}\\\\- \\sin{\\left(q_{2} \\right)} \\cos{\\left(q_{1} \\right)} & \\sin{\\left(q_{1} \\right)} & \\cos{\\left(q_{1} \\right)} \\cos{\\left(q_{2} \\right)} & \\left(l + q_{3}\\right) \\cos{\\left(q_{1} \\right)} \\cos{\\left(q_{2} \\right)}\\\\0 & 0 & 0 & 1\\end{matrix}\\right]$"
          },
          "metadata": {}
        }
      ],
      "source": [
        "q1, q2, q3 = symbols(\"q1 q2 q3\", real=1)  # joint positions\n",
        "q = Matrix([q1,q2,q3])\n",
        "\n",
        "T0q = simplify(SE3Exp(S1,q1) * SE3Exp(S2,q2) * SE3Exp(S3,q3) * T0e)\n",
        "print(\"Forward kinematics : \\n\")\n",
        "display(T0q)"
      ]
    },
    {
      "cell_type": "markdown",
      "id": "da44cf54",
      "metadata": {
        "id": "da44cf54"
      },
      "source": [
        "## Velocity Analysis\n",
        "\n",
        "The spatial twist $\\mathbf V$ is given by $[\\mathbf V] = \\dot{\\mathbf T} \\mathbf T^{-1} \\in se(3)$\n",
        "\n",
        "\\begin{equation*}\n",
        "             \\mathbf V = \\underbrace{\\mathbf{Ad}_{\\exp([\\mathbf S_1]q_1)}(\\mathbf{S_1})}_{\\mathbf J_{1}} \\dot{q}_1\n",
        "                        + \\underbrace{\\mathbf{Ad}_{\\exp([\\mathbf S_1]q_1)\n",
        "                                \\exp([\\mathbf S_2]q_2)}(\\mathbf{S_2})}_{\\mathbf J_{2}} \\dot{q}_2 + \\ldots\n",
        "\\end{equation*}\n",
        "\n",
        "where $\\mathbf J_{i} = \\mathbf{Ad}_{\\mathbf T_i}(\\mathbf S_i)$ \n",
        "with  $\\mathbf T_{i} = \\exp([\\mathbf S_1]q_1) \\dots \\exp([\\mathbf S_{i}]q_{i})$ is the instantaneous screw coordinate vector of\n",
        "        the $i^\\text{th}$ joint\n"
      ]
    },
    {
      "cell_type": "code",
      "execution_count": 28,
      "id": "99026dd5",
      "metadata": {
        "colab": {
          "base_uri": "https://localhost:8080/",
          "height": 296
        },
        "id": "99026dd5",
        "outputId": "5f8ab66f-4e69-4940-becb-a8557edba49c"
      },
      "outputs": [
        {
          "output_type": "stream",
          "name": "stdout",
          "text": [
            "Spatial Jacobian at zero position is same as screw axis\n"
          ]
        },
        {
          "output_type": "display_data",
          "data": {
            "text/plain": [
              "Matrix([\n",
              "[1, 0, 0],\n",
              "[0, 1, 0],\n",
              "[0, 0, 0],\n",
              "[0, 0, 0],\n",
              "[0, 0, 0],\n",
              "[0, 0, 1]])"
            ],
            "text/latex": "$\\displaystyle \\left[\\begin{matrix}1 & 0 & 0\\\\0 & 1 & 0\\\\0 & 0 & 0\\\\0 & 0 & 0\\\\0 & 0 & 0\\\\0 & 0 & 1\\end{matrix}\\right]$"
          },
          "metadata": {}
        },
        {
          "output_type": "stream",
          "name": "stdout",
          "text": [
            "Spatial Jacobian: \n"
          ]
        },
        {
          "output_type": "display_data",
          "data": {
            "text/plain": [
              "Matrix([\n",
              "[1,       0,                0],\n",
              "[0, cos(q1),                0],\n",
              "[0, sin(q1),                0],\n",
              "[0,       0,          sin(q2)],\n",
              "[0,       0, -sin(q1)*cos(q2)],\n",
              "[0,       0,  cos(q1)*cos(q2)]])"
            ],
            "text/latex": "$\\displaystyle \\left[\\begin{matrix}1 & 0 & 0\\\\0 & \\cos{\\left(q_{1} \\right)} & 0\\\\0 & \\sin{\\left(q_{1} \\right)} & 0\\\\0 & 0 & \\sin{\\left(q_{2} \\right)}\\\\0 & 0 & - \\sin{\\left(q_{1} \\right)} \\cos{\\left(q_{2} \\right)}\\\\0 & 0 & \\cos{\\left(q_{1} \\right)} \\cos{\\left(q_{2} \\right)}\\end{matrix}\\right]$"
          },
          "metadata": {}
        }
      ],
      "source": [
        "print(\"Spatial Jacobian at zero position is same as screw axis\")\n",
        "display(S)\n",
        "Js_1 = SE3AdjMatrix(SE3Exp(S1,q1)) * S1\n",
        "Js_2 = SE3AdjMatrix(SE3Exp(S1,q1) * SE3Exp(S2,q2)) * S2\n",
        "Js_3 = SE3AdjMatrix(SE3Exp(S1,q1) * SE3Exp(S2,q2) * SE3Exp(S3,q3)) * S3\n",
        "Js = simplify(Js_1.row_join(Js_2).row_join(Js_3))\n",
        "print(\"Spatial Jacobian: \")\n",
        "display(Js)"
      ]
    },
    {
      "cell_type": "markdown",
      "id": "611a7fba",
      "metadata": {
        "id": "611a7fba"
      },
      "source": [
        "#### Recursive formulation of Spatial velocity\n",
        "The recursive formulation of the velocity of any body $i$ can be expressed as a sum of the velocity of previous body $i-1$ and velocity across the joint $\\dot{q}_i$.\n",
        "\n",
        "\\begin{equation*}\n",
        " \\mathbf V_i = \\mathbf V_{i-1} + \\mathbf{Ad}_{\\mathbf T_{i}}(\\mathbf S_i) \\dot{q}_i\n",
        "\\end{equation*}\n"
      ]
    },
    {
      "cell_type": "code",
      "execution_count": 29,
      "id": "f6fb7ee7",
      "metadata": {
        "colab": {
          "base_uri": "https://localhost:8080/",
          "height": 313
        },
        "id": "f6fb7ee7",
        "outputId": "45f44cc8-0a7e-4626-dddb-ee48b62cb9cd"
      },
      "outputs": [
        {
          "output_type": "stream",
          "name": "stdout",
          "text": [
            "Spatial Velocities: \n",
            "\n"
          ]
        },
        {
          "output_type": "display_data",
          "data": {
            "text/plain": [
              "Matrix([\n",
              "[qdot1,         qdot1,                  qdot1],\n",
              "[    0, qdot2*cos(q1),          qdot2*cos(q1)],\n",
              "[    0, qdot2*sin(q1),          qdot2*sin(q1)],\n",
              "[    0,             0,          qdot3*sin(q2)],\n",
              "[    0,             0, -qdot3*sin(q1)*cos(q2)],\n",
              "[    0,             0,  qdot3*cos(q1)*cos(q2)]])"
            ],
            "text/latex": "$\\displaystyle \\left[\\begin{matrix}\\dot{q}_{1} & \\dot{q}_{1} & \\dot{q}_{1}\\\\0 & \\dot{q}_{2} \\cos{\\left(q_{1} \\right)} & \\dot{q}_{2} \\cos{\\left(q_{1} \\right)}\\\\0 & \\dot{q}_{2} \\sin{\\left(q_{1} \\right)} & \\dot{q}_{2} \\sin{\\left(q_{1} \\right)}\\\\0 & 0 & \\dot{q}_{3} \\sin{\\left(q_{2} \\right)}\\\\0 & 0 & - \\dot{q}_{3} \\sin{\\left(q_{1} \\right)} \\cos{\\left(q_{2} \\right)}\\\\0 & 0 & \\dot{q}_{3} \\cos{\\left(q_{1} \\right)} \\cos{\\left(q_{2} \\right)}\\end{matrix}\\right]$"
          },
          "metadata": {}
        },
        {
          "output_type": "stream",
          "name": "stdout",
          "text": [
            "Spatial twist of end-effector: \n"
          ]
        },
        {
          "output_type": "display_data",
          "data": {
            "text/plain": [
              "Matrix([\n",
              "[                 qdot1],\n",
              "[         qdot2*cos(q1)],\n",
              "[         qdot2*sin(q1)],\n",
              "[         qdot3*sin(q2)],\n",
              "[-qdot3*sin(q1)*cos(q2)],\n",
              "[ qdot3*cos(q1)*cos(q2)]])"
            ],
            "text/latex": "$\\displaystyle \\left[\\begin{matrix}\\dot{q}_{1}\\\\\\dot{q}_{2} \\cos{\\left(q_{1} \\right)}\\\\\\dot{q}_{2} \\sin{\\left(q_{1} \\right)}\\\\\\dot{q}_{3} \\sin{\\left(q_{2} \\right)}\\\\- \\dot{q}_{3} \\sin{\\left(q_{1} \\right)} \\cos{\\left(q_{2} \\right)}\\\\\\dot{q}_{3} \\cos{\\left(q_{1} \\right)} \\cos{\\left(q_{2} \\right)}\\end{matrix}\\right]$"
          },
          "metadata": {}
        }
      ],
      "source": [
        "q1d, q2d, q3d = symbols(\"qdot1 qdot2 qdot3\", real=1)  # joint positions\n",
        "qd = Matrix([q1d,q2d,q3d])\n",
        "\n",
        "Vs1 = Js_1*q1d\n",
        "Vs2 = Vs1 + Js_2*q2d\n",
        "Vs3 = Vs2 + Js_3*q3d\n",
        "\n",
        "print(\"Spatial Velocities: \\n\")\n",
        "display(simplify(Vs1.row_join(Vs2).row_join(Vs3)))\n",
        "Vs = Js*qd\n",
        "print(\"Spatial twist of end-effector: \")\n",
        "display(Vs)"
      ]
    },
    {
      "cell_type": "markdown",
      "id": "5e090170",
      "metadata": {
        "id": "5e090170"
      },
      "source": [
        "## Acceleration Analysis\n",
        "Differentiating velocity equation with respect to time,\n",
        "\\begin{equation*}\n",
        "\\begin{aligned}\n",
        " \\dot{\\mathbf V} = \\underbrace{\\mathbf{Ad}_{\\exp([\\mathbf S_1]q_1)}(\\mathbf{S_1})}_{\\mathbf J_{1}}\n",
        " \\ddot{q}_1 + \\underbrace{\\frac{d}{dt}\\mathbf{Ad}_{\\exp([\\mathbf\n",
        " S_1]q_1)}(\\mathbf{S_1})}_{\\frac{d}{dt}\\mathbf J_{1}} \\dot{q}_1 + \\\\\n",
        " \\underbrace{\\mathbf{Ad}_{\\exp([\\mathbf S_1]q_1) \\exp([\\mathbf S_2]q_2)}(\\mathbf{S_2})}_{\\mathbf\n",
        " J_{2}} \\ddot{q}_2 + \\underbrace{\\frac{d}{dt}\\mathbf{Ad}_{\\exp([\\mathbf S_1]q_1) \\exp([\\mathbf\n",
        "S_2]q_2)}(\\mathbf{S_2})}_{\\frac{d}{dt}\\mathbf J_{2}} \\dot{q}_2 + \\ldots \\\\\n",
        "\\end{aligned}\n",
        "\\end{equation*}\n",
        "\n",
        "\\begin{equation*}\n",
        "      \\dot{\\mathbf V} = \\mathbf J \\ddot{\\mathbf q} + \\dot{\\mathbf J} \\dot{\\mathbf q}\n",
        "\\end{equation*}\n",
        " \n",
        " \n",
        "Given two twists $\\mathbf V_1 = (\\mathbf{\\omega}_1, \\mathbf{v}_1)$ and \n",
        "$\\mathbf V_2 = (\\mathbf{\\omega}_2, \\mathbf{v}_2)$, the Lie Bracket \n",
        "$\\left[ \\mathbf V_1, \\mathbf V_2 \\right]$ of $\\mathbf V_1$ and $\\mathbf V_2$\n",
        "written either as $\\left[\\mathbf{ad}_{\\mathbf V_1}\\right] \\mathbf V_2$ in matrix form or $\\mathbf{ad}_{\\mathbf V_1}(\\mathbf V_2)$ in the form of a mapping, is defined as\n",
        "\n",
        " \\begin{equation*}\n",
        "  \\left[\n",
        " \\begin{matrix}\n",
        " \\left[\\mathbf{\\omega}_1\\right] & \\mathbf 0 \\\\\n",
        " \\left[\\mathbf{v}_1\\right] & \\left[\\mathbf{\\omega}_1\\right] \\\\\n",
        " \\end{matrix}\n",
        "\\right]\n",
        "  \\left[\n",
        " \\begin{matrix}\n",
        "\\mathbf{\\omega}_2\t\\\\\n",
        " \\mathbf{v}_2\t\\\\\n",
        " \\end{matrix}\n",
        "\\right]\n",
        "= \\left[\\mathbf{ad}_{\\mathbf V_1}\\right] \\mathbf V_2\n",
        "= \\mathbf{ad}_{\\mathbf V_1}(\\mathbf V_2)\n",
        "\\in \\mathbb{R}^{6 \\times 6}\n",
        " \\end{equation*}\n",
        "\\begin{equation*}\n",
        "        \\dot{\\mathbf J}_i = [\\mathbf V_i, \\mathbf J_i]\n",
        "\\end{equation*}\n"
      ]
    },
    {
      "cell_type": "code",
      "execution_count": 30,
      "id": "719b3196",
      "metadata": {
        "colab": {
          "base_uri": "https://localhost:8080/",
          "height": 156
        },
        "id": "719b3196",
        "outputId": "22815587-1031-445c-c0a1-c22bcdd03bf0"
      },
      "outputs": [
        {
          "output_type": "stream",
          "name": "stdout",
          "text": [
            "Spatial Jacobian derivative (Js_dot)\n"
          ]
        },
        {
          "output_type": "display_data",
          "data": {
            "text/plain": [
              "Matrix([\n",
              "[0,              0,                                              0],\n",
              "[0, -qdot1*sin(q1),                                              0],\n",
              "[0,  qdot1*cos(q1),                                              0],\n",
              "[0,              0,                                  qdot2*cos(q2)],\n",
              "[0,              0, -qdot1*cos(q1)*cos(q2) + qdot2*sin(q1)*sin(q2)],\n",
              "[0,              0, -qdot1*sin(q1)*cos(q2) - qdot2*sin(q2)*cos(q1)]])"
            ],
            "text/latex": "$\\displaystyle \\left[\\begin{matrix}0 & 0 & 0\\\\0 & - \\dot{q}_{1} \\sin{\\left(q_{1} \\right)} & 0\\\\0 & \\dot{q}_{1} \\cos{\\left(q_{1} \\right)} & 0\\\\0 & 0 & \\dot{q}_{2} \\cos{\\left(q_{2} \\right)}\\\\0 & 0 & - \\dot{q}_{1} \\cos{\\left(q_{1} \\right)} \\cos{\\left(q_{2} \\right)} + \\dot{q}_{2} \\sin{\\left(q_{1} \\right)} \\sin{\\left(q_{2} \\right)}\\\\0 & 0 & - \\dot{q}_{1} \\sin{\\left(q_{1} \\right)} \\cos{\\left(q_{2} \\right)} - \\dot{q}_{2} \\sin{\\left(q_{2} \\right)} \\cos{\\left(q_{1} \\right)}\\end{matrix}\\right]$"
          },
          "metadata": {}
        }
      ],
      "source": [
        "q1dd, q2dd, q3dd = symbols(\"qddot1 qddot2 qddot3\", real=1)  # joint positions\n",
        "qdd = Matrix([q1dd,q2dd,q3dd])\n",
        "\n",
        "Jsdot1 = zeros(6,1)\n",
        "Jsdot2 = SE3adMatrix(Vs1)*Js_2\n",
        "Jsdot3 = SE3adMatrix(Vs2)*Js_3\n",
        "\n",
        "Jsdot = simplify(Jsdot1.row_join(Jsdot2).row_join(Jsdot3))\n",
        "print(\"Spatial Jacobian derivative (Js_dot)\")\n",
        "display(Jsdot)\n"
      ]
    },
    {
      "cell_type": "markdown",
      "id": "e62a77f5",
      "metadata": {
        "id": "e62a77f5"
      },
      "source": [
        "The acceleration of any body $i$ in the kinematic chain can be expressed in the following\n",
        "summand form:\n",
        "\n",
        "\\begin{equation*}\n",
        " \\dot{\\mathbf V}_i = \\sum_{j \\leq i} \\left( \\mathbf J_j \\ddot{q}_j + [\\mathbf V_j, \\mathbf J_j]\n",
        " \\dot{q}_j \\right)\n",
        "\\end{equation*}\n",
        "\n",
        "which reveals the recursive nature of the acceleration computation i.e. the\n",
        "acceleration of any body $i$ can be expressed as a sum of the acceleration of previous body\n",
        "$i-1$ and acceleration across the joint $\\ddot{q}_i$.\n",
        "\n",
        "\\begin{equation*}\n",
        "  \\dot{\\mathbf V}_i =  \\dot{\\mathbf V}_{i-1} + \\mathbf J_i \\ddot{q}_i +[\\mathbf V_{i},\\mathbf J_i] \\dot{q}_i\n",
        "\\end{equation*}\n",
        "\n",
        "This can be further simplified:\n",
        "\n",
        "\\begin{equation*}\n",
        "\\begin{aligned}\n",
        "  \\dot{\\mathbf V}_i =  \\dot{\\mathbf V}_{i-1} + \\mathbf J_i \\ddot{q}_i + [\\mathbf V_{i-1},\\mathbf V_i] \\\\\n",
        "  \\text{or} \\quad \\dot{\\mathbf V}_i =  \\dot{\\mathbf V}_{i-1} + \\mathbf{Ad}_{\\mathbf T_i}(\\mathbf\n",
        "  S_i) \\ddot{q}_i + \\mathbf{ad}_{\\mathbf V_{i-1}}(\\mathbf V_i)\n",
        "\\end{aligned}\n",
        "\\end{equation*}\n"
      ]
    },
    {
      "cell_type": "code",
      "execution_count": 31,
      "id": "783d2c60",
      "metadata": {
        "colab": {
          "base_uri": "https://localhost:8080/",
          "height": 296
        },
        "id": "783d2c60",
        "outputId": "fce36046-4466-4bd6-ca3f-2ae991ec7289"
      },
      "outputs": [
        {
          "output_type": "stream",
          "name": "stdout",
          "text": [
            "Spatial Accelerations: \n"
          ]
        },
        {
          "output_type": "display_data",
          "data": {
            "text/plain": [
              "Matrix([\n",
              "[qddot1,                               qddot1,                                                                              qddot1],\n",
              "[     0, qddot2*cos(q1) - qdot1*qdot2*sin(q1),                                                qddot2*cos(q1) - qdot1*qdot2*sin(q1)],\n",
              "[     0, qddot2*sin(q1) + qdot1*qdot2*cos(q1),                                                qddot2*sin(q1) + qdot1*qdot2*cos(q1)],\n",
              "[     0,                                    0,                                                qddot3*sin(q2) + qdot2*qdot3*cos(q2)],\n",
              "[     0,                                    0, -qddot3*sin(q1)*cos(q2) - qdot1*qdot3*cos(q1)*cos(q2) + qdot2*qdot3*sin(q1)*sin(q2)],\n",
              "[     0,                                    0,  qddot3*cos(q1)*cos(q2) - qdot1*qdot3*sin(q1)*cos(q2) - qdot2*qdot3*sin(q2)*cos(q1)]])"
            ],
            "text/latex": "$\\displaystyle \\left[\\begin{matrix}\\ddot{q}_{1} & \\ddot{q}_{1} & \\ddot{q}_{1}\\\\0 & \\ddot{q}_{2} \\cos{\\left(q_{1} \\right)} - \\dot{q}_{1} \\dot{q}_{2} \\sin{\\left(q_{1} \\right)} & \\ddot{q}_{2} \\cos{\\left(q_{1} \\right)} - \\dot{q}_{1} \\dot{q}_{2} \\sin{\\left(q_{1} \\right)}\\\\0 & \\ddot{q}_{2} \\sin{\\left(q_{1} \\right)} + \\dot{q}_{1} \\dot{q}_{2} \\cos{\\left(q_{1} \\right)} & \\ddot{q}_{2} \\sin{\\left(q_{1} \\right)} + \\dot{q}_{1} \\dot{q}_{2} \\cos{\\left(q_{1} \\right)}\\\\0 & 0 & \\ddot{q}_{3} \\sin{\\left(q_{2} \\right)} + \\dot{q}_{2} \\dot{q}_{3} \\cos{\\left(q_{2} \\right)}\\\\0 & 0 & - \\ddot{q}_{3} \\sin{\\left(q_{1} \\right)} \\cos{\\left(q_{2} \\right)} - \\dot{q}_{1} \\dot{q}_{3} \\cos{\\left(q_{1} \\right)} \\cos{\\left(q_{2} \\right)} + \\dot{q}_{2} \\dot{q}_{3} \\sin{\\left(q_{1} \\right)} \\sin{\\left(q_{2} \\right)}\\\\0 & 0 & \\ddot{q}_{3} \\cos{\\left(q_{1} \\right)} \\cos{\\left(q_{2} \\right)} - \\dot{q}_{1} \\dot{q}_{3} \\sin{\\left(q_{1} \\right)} \\cos{\\left(q_{2} \\right)} - \\dot{q}_{2} \\dot{q}_{3} \\sin{\\left(q_{2} \\right)} \\cos{\\left(q_{1} \\right)}\\end{matrix}\\right]$"
          },
          "metadata": {}
        },
        {
          "output_type": "stream",
          "name": "stdout",
          "text": [
            "Spatial acceleration of end-effector: \n"
          ]
        },
        {
          "output_type": "display_data",
          "data": {
            "text/plain": [
              "Matrix([\n",
              "[                                                                          qddot1],\n",
              "[                                            qddot2*cos(q1) - qdot1*qdot2*sin(q1)],\n",
              "[                                            qddot2*sin(q1) + qdot1*qdot2*cos(q1)],\n",
              "[                                            qddot3*sin(q2) + qdot2*qdot3*cos(q2)],\n",
              "[-qddot3*sin(q1)*cos(q2) + qdot3*(-qdot1*cos(q1)*cos(q2) + qdot2*sin(q1)*sin(q2))],\n",
              "[ qddot3*cos(q1)*cos(q2) + qdot3*(-qdot1*sin(q1)*cos(q2) - qdot2*sin(q2)*cos(q1))]])"
            ],
            "text/latex": "$\\displaystyle \\left[\\begin{matrix}\\ddot{q}_{1}\\\\\\ddot{q}_{2} \\cos{\\left(q_{1} \\right)} - \\dot{q}_{1} \\dot{q}_{2} \\sin{\\left(q_{1} \\right)}\\\\\\ddot{q}_{2} \\sin{\\left(q_{1} \\right)} + \\dot{q}_{1} \\dot{q}_{2} \\cos{\\left(q_{1} \\right)}\\\\\\ddot{q}_{3} \\sin{\\left(q_{2} \\right)} + \\dot{q}_{2} \\dot{q}_{3} \\cos{\\left(q_{2} \\right)}\\\\- \\ddot{q}_{3} \\sin{\\left(q_{1} \\right)} \\cos{\\left(q_{2} \\right)} + \\dot{q}_{3} \\left(- \\dot{q}_{1} \\cos{\\left(q_{1} \\right)} \\cos{\\left(q_{2} \\right)} + \\dot{q}_{2} \\sin{\\left(q_{1} \\right)} \\sin{\\left(q_{2} \\right)}\\right)\\\\\\ddot{q}_{3} \\cos{\\left(q_{1} \\right)} \\cos{\\left(q_{2} \\right)} + \\dot{q}_{3} \\left(- \\dot{q}_{1} \\sin{\\left(q_{1} \\right)} \\cos{\\left(q_{2} \\right)} - \\dot{q}_{2} \\sin{\\left(q_{2} \\right)} \\cos{\\left(q_{1} \\right)}\\right)\\end{matrix}\\right]$"
          },
          "metadata": {}
        }
      ],
      "source": [
        "Vsdot1 = Js_1*q1dd \n",
        "Vsdot2 = Vsdot1 + Js_2*q2dd + SE3adMatrix(Vs1)*Vs2\n",
        "Vsdot3 = Vsdot2 + Js_3*q3dd + SE3adMatrix(Vs2)*Vs3\n",
        "\n",
        "print(\"Spatial Accelerations: \")\n",
        "display(simplify(Vsdot1.row_join(Vsdot2).row_join(Vsdot3)))\n",
        "Vsdot = Js*qdd + Jsdot*qd\n",
        "print(\"Spatial acceleration of end-effector: \")\n",
        "display(Vsdot)"
      ]
    },
    {
      "cell_type": "markdown",
      "id": "8fae4cfd",
      "metadata": {
        "id": "8fae4cfd"
      },
      "source": [
        "## Relationship with body-fixed representation"
      ]
    },
    {
      "cell_type": "markdown",
      "id": "84db8704",
      "metadata": {
        "id": "84db8704"
      },
      "source": [
        "We can establish a relationship between spatial and body twist. First we\n",
        "        note:\n",
        "\n",
        "\\begin{equation*}\n",
        "    [\\mathbf{V}_{b}] = \\mathbf{T}^{-1}\\dot{\\mathbf{T}} = \\mathbf{T}^{-1}[\\mathbf{V}_{s}]\\mathbf{T}.\n",
        "\\end{equation*}\n",
        "\n",
        "And furthermore:\n",
        "\n",
        "\\begin{align*}\n",
        "    [\\mathbf{V}_{s}] &= \\dot{\\mathbf{T}}\\mathbf{T}^{-1} = \\mathbf{T}[\\mathbf{V}_{b}]\\mathbf{T}^{-1} \\\\\n",
        "                   &= \\begin{bmatrix}\n",
        "        \\mathbf{R}[\\mathbf{\\omega}_{b}]\\mathbf{R}^{T} &\n",
        "        -\\mathbf{R}[\\mathbf{\\omega}_{b}]\\mathbf{R}^{T}\\mathbf{p}+\\mathbf{R}\\mathbf{v}_{b} \\\\\n",
        "        0 & 0\n",
        "    \\end{bmatrix}.\n",
        "\\end{align*}\n",
        "\n",
        "We can use this to formulate the following useful relation:\n",
        "\n",
        "\\begin{equation*}\n",
        "    \\begin{bmatrix}\n",
        "        \\mathbf{\\omega}_{s} \\\\ \\mathbf{v}_{s}\n",
        "    \\end{bmatrix} =\n",
        "    \\begin{bmatrix}\n",
        "        \\mathbf{R} & 0 \\\\\n",
        "        [\\mathbf{p}]\\mathbf{R} & \\mathbf{R}\n",
        "    \\end{bmatrix}\n",
        "    \\begin{bmatrix}\n",
        "        \\mathbf{\\omega}_{b} \\\\ \\mathbf{v}_{b}\n",
        "    \\end{bmatrix}\n",
        "\\end{equation*}\n",
        "\n",
        "Conceptually this is very useful to change  the reference frame of (not only) twists. For a\n",
        "        $\\mathbf{T}=(\\mathbf{R}, \\mathbf{p})\\in SE(3)$, we call\n",
        "\n",
        "\\begin{equation*}\n",
        "    [\\mathbf{Ad}_{\\mathbf{T}}] := \\begin{bmatrix}\n",
        "        \\mathbf{R} & 0 \\\\\n",
        "        [\\mathbf{p}]\\mathbf{R} & \\mathbf{R}\n",
        "    \\end{bmatrix} \\in \\mathbb{R}^{6\\times 6}\n",
        "\\end{equation*}\n"
      ]
    },
    {
      "cell_type": "code",
      "execution_count": 32,
      "id": "d2658985",
      "metadata": {
        "colab": {
          "base_uri": "https://localhost:8080/",
          "height": 174
        },
        "id": "d2658985",
        "outputId": "c449c5b4-1ddd-4852-c6a9-eb09c803ecdc"
      },
      "outputs": [
        {
          "output_type": "stream",
          "name": "stdout",
          "text": [
            "Body Jacobian: \n",
            "\n"
          ]
        },
        {
          "output_type": "display_data",
          "data": {
            "text/plain": [
              "Matrix([\n",
              "[          cos(q2),      0, 0],\n",
              "[                0,      1, 0],\n",
              "[          sin(q2),      0, 0],\n",
              "[                0, l + q3, 0],\n",
              "[-(l + q3)*cos(q2),      0, 0],\n",
              "[                0,      0, 1]])"
            ],
            "text/latex": "$\\displaystyle \\left[\\begin{matrix}\\cos{\\left(q_{2} \\right)} & 0 & 0\\\\0 & 1 & 0\\\\\\sin{\\left(q_{2} \\right)} & 0 & 0\\\\0 & l + q_{3} & 0\\\\- \\left(l + q_{3}\\right) \\cos{\\left(q_{2} \\right)} & 0 & 0\\\\0 & 0 & 1\\end{matrix}\\right]$"
          },
          "metadata": {}
        }
      ],
      "source": [
        "Jb = simplify(SE3AdjInvMatrix(T0q)*Js)\n",
        "print(\"Body Jacobian: \\n\")\n",
        "display(Jb)"
      ]
    },
    {
      "cell_type": "code",
      "execution_count": 33,
      "id": "a4c6694e",
      "metadata": {
        "colab": {
          "base_uri": "https://localhost:8080/",
          "height": 156
        },
        "id": "a4c6694e",
        "outputId": "698d1973-4d8f-47c6-fe7e-fe3c056ab9aa"
      },
      "outputs": [
        {
          "output_type": "stream",
          "name": "stdout",
          "text": [
            "Body acceleration of end-effector\n"
          ]
        },
        {
          "output_type": "display_data",
          "data": {
            "text/plain": [
              "Matrix([\n",
              "[                                                                        qddot1*cos(q2) - qdot1*qdot2*sin(q2)],\n",
              "[                                                                                                      qddot2],\n",
              "[                                                                        qddot1*sin(q2) + qdot1*qdot2*cos(q2)],\n",
              "[                                                                          l*qddot2 + q3*qddot2 + qdot2*qdot3],\n",
              "[-l*qddot1*cos(q2) + l*qdot1*qdot2*sin(q2) - q3*qddot1*cos(q2) + q3*qdot1*qdot2*sin(q2) - qdot1*qdot3*cos(q2)],\n",
              "[                                                                                                      qddot3]])"
            ],
            "text/latex": "$\\displaystyle \\left[\\begin{matrix}\\ddot{q}_{1} \\cos{\\left(q_{2} \\right)} - \\dot{q}_{1} \\dot{q}_{2} \\sin{\\left(q_{2} \\right)}\\\\\\ddot{q}_{2}\\\\\\ddot{q}_{1} \\sin{\\left(q_{2} \\right)} + \\dot{q}_{1} \\dot{q}_{2} \\cos{\\left(q_{2} \\right)}\\\\l \\ddot{q}_{2} + q_{3} \\ddot{q}_{2} + \\dot{q}_{2} \\dot{q}_{3}\\\\- l \\ddot{q}_{1} \\cos{\\left(q_{2} \\right)} + l \\dot{q}_{1} \\dot{q}_{2} \\sin{\\left(q_{2} \\right)} - q_{3} \\ddot{q}_{1} \\cos{\\left(q_{2} \\right)} + q_{3} \\dot{q}_{1} \\dot{q}_{2} \\sin{\\left(q_{2} \\right)} - \\dot{q}_{1} \\dot{q}_{3} \\cos{\\left(q_{2} \\right)}\\\\\\ddot{q}_{3}\\end{matrix}\\right]$"
          },
          "metadata": {}
        }
      ],
      "source": [
        "Vbdot= SE3AdjInvMatrix(T0q)*Vsdot\n",
        "print(\"Body acceleration of end-effector\")\n",
        "display(simplify(Vbdot))"
      ]
    },
    {
      "cell_type": "code",
      "source": [
        ""
      ],
      "metadata": {
        "id": "6ziUVU1nQDqM"
      },
      "id": "6ziUVU1nQDqM",
      "execution_count": null,
      "outputs": []
    }
  ],
  "metadata": {
    "kernelspec": {
      "display_name": "Python 3 (ipykernel)",
      "language": "python",
      "name": "python3"
    },
    "language_info": {
      "codemirror_mode": {
        "name": "ipython",
        "version": 3
      },
      "file_extension": ".py",
      "mimetype": "text/x-python",
      "name": "python",
      "nbconvert_exporter": "python",
      "pygments_lexer": "ipython3",
      "version": "3.8.10"
    },
    "colab": {
      "name": "Kinematic Analysis of RRP robot - Spatial Representation.ipynb",
      "provenance": [],
      "collapsed_sections": [],
      "include_colab_link": true
    }
  },
  "nbformat": 4,
  "nbformat_minor": 5
}