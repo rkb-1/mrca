{
  "cells": [
    {
      "cell_type": "markdown",
      "metadata": {
        "id": "view-in-github",
        "colab_type": "text"
      },
      "source": [
        "<a href=\"https://colab.research.google.com/github/rkb-1/mrca/blob/master/Kinematic_Analysis_of_RRP_robot_Body_fixed_Representation.ipynb\" target=\"_parent\"><img src=\"https://colab.research.google.com/assets/colab-badge.svg\" alt=\"Open In Colab\"/></a>"
      ]
    },
    {
      "cell_type": "markdown",
      "id": "8428a94f",
      "metadata": {
        "id": "8428a94f"
      },
      "source": [
        "# Tutorial: Kinematics of Open loop chains - Body-fixed Representation \n",
        "-Rohit Kumar (r.kumar@dfki.de)"
      ]
    },
    {
      "cell_type": "markdown",
      "id": "04af1308",
      "metadata": {
        "id": "04af1308"
      },
      "source": [
        "## Helper functions"
      ]
    },
    {
      "cell_type": "code",
      "execution_count": null,
      "id": "8df6822f",
      "metadata": {
        "id": "8df6822f"
      },
      "outputs": [],
      "source": [
        "# Import required libraries\n",
        "import numpy as np\n",
        "from sympy import Matrix, symbols, Identity, cos, sin, zeros, simplify, init_printing, print_latex\n",
        "\n",
        "def SE3AdjInvMatrix(C):\n",
        "    \"\"\"Compute Inverse of (6x6) Adjoint Matrix for SE(3)\n",
        "\n",
        "    Args:\n",
        "        C ([type]): [description]\n",
        "\n",
        "    Returns:\n",
        "        sympy.Matrix: Inverse of (6x6) Adjoint Matrix\n",
        "    \"\"\"\n",
        "    AdInv = Matrix([[C[0, 0], C[1, 0], C[2, 0], 0, 0, 0],\n",
        "                    [C[0, 1], C[1, 1], C[2, 1], 0, 0, 0],\n",
        "                    [C[0, 2], C[1, 2], C[2, 2], 0, 0, 0],\n",
        "                    [-C[2, 3]*C[1, 0]+C[1, 3]*C[2, 0], C[2, 3]*C[0, 0]-C[0, 3]*C[2, 0],\n",
        "                        (-C[1, 3])*C[0, 0]+C[0, 3]*C[1, 0], C[0, 0], C[1, 0], C[2, 0]],\n",
        "                    [-C[2, 3]*C[1, 1]+C[1, 3]*C[2, 1], C[2, 3]*C[0, 1]-C[0, 3]*C[2, 1],\n",
        "                        (-C[1, 3])*C[0, 1]+C[0, 3]*C[1, 1], C[0, 1], C[1, 1], C[2, 1]],\n",
        "                    [-C[2, 3]*C[1, 2]+C[1, 3]*C[2, 2], C[2, 3]*C[0, 2]-C[0, 3]*C[2, 2],\n",
        "                        (-C[1, 3])*C[0, 2]+C[0, 3]*C[1, 2], C[0, 2], C[1, 2], C[2, 2]]])\n",
        "    return AdInv\n",
        "\n",
        "def SE3AdjMatrix(C):\n",
        "    \"\"\"Compute (6x6) Adjoint Matrix for SE(3)\n",
        "\n",
        "    Args:\n",
        "        C ([type]): [description]\n",
        "\n",
        "    Returns:\n",
        "    sympy.Matrix: (6x6) Adjoint Matrix\n",
        "    \"\"\"\n",
        "    Ad = Matrix([[C[0, 0], C[0, 1], C[0, 2], 0, 0, 0],\n",
        "                 [C[1, 0], C[1, 1], C[1, 2], 0, 0, 0],\n",
        "                 [C[2, 0], C[2, 1], C[2, 2], 0, 0, 0],\n",
        "                 [-C[2, 3]*C[1, 0]+C[1, 3]*C[2, 0], -C[2, 3]*C[1, 1]+C[1, 3]*C[2, 1],\n",
        "                  -C[2, 3]*C[1, 2]+C[1, 3]*C[2, 2], C[0, 0], C[0, 1], C[0, 2]],\n",
        "                 [C[2, 3]*C[0, 0]-C[0, 3]*C[2, 0],  C[2, 3]*C[0, 1]-C[0, 3]*C[2, 1],\n",
        "                     C[2, 3]*C[0, 2]-C[0, 3]*C[2, 2], C[1, 0], C[1, 1], C[1, 2]],\n",
        "                 [-C[1, 3]*C[0, 0]+C[0, 3]*C[1, 0], -C[1, 3]*C[0, 1]+C[0, 3]*C[1, 1],\n",
        "                  -C[1, 3]*C[0, 2]+C[0, 3]*C[1, 2], C[2, 0], C[2, 1], C[2, 2]]])\n",
        "    return Ad\n",
        "\n",
        "def SE3adMatrix(X):\n",
        "    \"\"\"Compute (6x6) adjoint Matrix for SE(3) \n",
        "        - also known as spatial cross product in the literature.\n",
        "\n",
        "    Args:\n",
        "        X ([type]): [description]\n",
        "\n",
        "    Returns:\n",
        "        sympy.Matrix: (6x6) adjoint Matrix\n",
        "    \"\"\"\n",
        "    ad = Matrix([[0, -X[2, 0], X[1, 0], 0, 0, 0],\n",
        "                 [X[2, 0], 0, -X[0, 0], 0, 0, 0],\n",
        "                 [-X[1, 0], X[0, 0], 0, 0, 0, 0],\n",
        "                 [0, -X[5, 0], X[4, 0], 0, -X[2, 0], X[1, 0]],\n",
        "                 [X[5, 0], 0, -X[3, 0], X[2, 0], 0, -X[0, 0]],\n",
        "                 [-X[4, 0], X[3, 0], 0, -X[1, 0], X[0, 0], 0]])\n",
        "    return ad\n",
        "\n",
        "def SE3Exp(XX, t):\n",
        "    \"\"\"compute exponential mapping for SE(3).\n",
        "\n",
        "    Args:\n",
        "        XX ([type]): [description]\n",
        "        t ([type]): [description]\n",
        "\n",
        "    Returns:\n",
        "        [type]: [description]\n",
        "    \"\"\"\n",
        "    X = XX.T\n",
        "    xi = Matrix(X[0:3])\n",
        "    eta = Matrix(X[3:6])\n",
        "    xihat = Matrix([[0, -xi[2], xi[1]],\n",
        "                    [xi[2], 0, -xi[0]],\n",
        "                    [-xi[1], xi[0], 0]])\n",
        "    R = Matrix(Identity(3)) + sin(t)*xihat + (1-cos(t))*(xihat*xihat)\n",
        "    if xi == zeros(3, 1):\n",
        "        p = eta * t\n",
        "    else:\n",
        "        p = Matrix(Identity(3)*t + (1-cos(t))*xihat + (t-sin(t))*(xihat*xihat))*eta\n",
        "    C = R.row_join(p).col_join(Matrix([0, 0, 0, 1]).T)\n",
        "    return C\n",
        "\n",
        "def SE3Inv(C):\n",
        "    \"\"\"Compute analytical inverse of exponential mapping for SE(3).\n",
        "\n",
        "    Args:\n",
        "        C ([type]): [description]\n",
        "\n",
        "    Returns:\n",
        "        [type]: [description]\n",
        "    \"\"\"\n",
        "    CInv = Matrix([[C[0, 0], C[1, 0], C[2, 0], -C[0, 0]*C[0, 3]-C[1, 0]*C[1, 3]-C[2, 0]*C[2, 3]],\n",
        "                   [C[0, 1], C[1, 1], C[2, 1], -C[0, 1] *\n",
        "                       C[0, 3]-C[1, 1]*C[1, 3]-C[2, 1]*C[2, 3]],\n",
        "                   [C[0, 2], C[1, 2], C[2, 2], -C[0, 2] *\n",
        "                       C[0, 3]-C[1, 2]*C[1, 3]-C[2, 2]*C[2, 3]],\n",
        "                   [0, 0, 0, 1]])\n",
        "    return CInv\n",
        "\n",
        "def SO3Exp(x, t):\n",
        "    \"\"\"Compute exponential mapping for SO(3) (Rotation Matrix).\n",
        "\n",
        "    Args:\n",
        "        x (sympy.Matrix): Rotation axis\n",
        "        t (double): Rotation angle\n",
        "\n",
        "    Returns:\n",
        "        sympy.Matrix: Rotation Matrix\n",
        "    \"\"\"\n",
        "    xhat = Matrix([[0, -x[2, 0], x[1, 0]],\n",
        "                   [x[2, 0], 0, -x[0, 0]],\n",
        "                   [-x[1, 0], x[0, 0], 0]])\n",
        "    R = Matrix(Identity(3)) + sin(t) * xhat + (1-cos(t))*(xhat*xhat)\n",
        "    return R\n",
        "\n",
        "def InertiaMatrix(Ixx, Ixy, Ixz, Iyy, Iyz, Izz):\n",
        "    I = Matrix([[Ixx, Ixy, Ixz],\n",
        "                [Ixy, Iyy, Iyz],\n",
        "                [Ixz, Iyz, Izz]])\n",
        "    return I\n",
        "\n",
        "def TransformationMatrix(r=Matrix(Identity(3)), t=zeros(3, 1)):\n",
        "    \"\"\"Build Transformation matrix from rotation and translation\n",
        "\n",
        "    Args:\n",
        "        r (sympy.Matrix): SO(3) Rotation matrix (3,3). Defaults to sympy.Matrix(Identity(3))\n",
        "        t (sympy.Matrix): Translation vector (3,1). Defaults to sympy.zeros(3,1)\n",
        "\n",
        "    Returns:\n",
        "        sympy.Matrix: Transformation matrix\n",
        "    \"\"\"\n",
        "    T = r.row_join(t).col_join(Matrix([[0, 0, 0, 1]]))\n",
        "    return T\n",
        "\n",
        "def MassMatrixMixedData(m, Theta, COM):\n",
        "    \"\"\"Build mass-inertia matrix in SE(3) from mass, inertia and center of mass information.\n",
        "\n",
        "    Args:\n",
        "        m (float): Mass.\n",
        "        Theta (sympy.Matrix): Inertia.\n",
        "        COM (sympy.Matrix): Center of Mass.\n",
        "\n",
        "    Returns:\n",
        "        sympy.Matrix: Mass-inertia Matrix.\n",
        "    \"\"\"\n",
        "    M = Matrix([[Theta[0, 0], Theta[0, 1], Theta[0, 2], 0, (-COM[2])*m, COM[1]*m],\n",
        "                [Theta[0, 1], Theta[1, 1], Theta[1, 2],\n",
        "                    COM[2]*m, 0, (-COM[0]*m)],\n",
        "                [Theta[0, 2], Theta[1, 2], Theta[2, 2],\n",
        "                    (-COM[1])*m, COM[0]*m, 0],  \n",
        "                [0, COM[2]*m, (-COM[1]*m), m, 0, 0],\n",
        "                [(-COM[2])*m, 0, COM[0]*m, 0, m, 0],\n",
        "                [COM[1]*m, (-COM[0])*m, 0, 0, 0, m]])\n",
        "    return M"
      ]
    },
    {
      "cell_type": "markdown",
      "id": "f7f4a669",
      "metadata": {
        "id": "f7f4a669"
      },
      "source": [
        "# Kinematic Analysis of RRP robot"
      ]
    },
    {
      "cell_type": "markdown",
      "id": "f10a4d31",
      "metadata": {
        "id": "f10a4d31"
      },
      "source": [
        "![picture](https://drive.google.com/uc?export=view&id=1JYMjAVi0WXi56IbYKLWqYV_ASSMInpe2)\n"
      ]
    },
    {
      "cell_type": "markdown",
      "id": "85a0b6f9",
      "metadata": {
        "id": "85a0b6f9"
      },
      "source": [
        "## Reference configuration of the bodies (body fixed representation) at zero position\n",
        "A general configuration is given by a rotation matrix $\\mathbf{R}$ and position vector $\\mathbf{p}$ as follows.\n",
        "\\begin{equation}\n",
        "        \\mathbf{T} = \\begin{bmatrix}\n",
        "                \\mathbf{R} & \\textbf{p} \\\\ \\mathbf{0} & 1\n",
        "            \\end{bmatrix}\n",
        "    \\end{equation}\n",
        "\n"
      ]
    },
    {
      "cell_type": "code",
      "execution_count": null,
      "id": "266ca861",
      "metadata": {
        "scrolled": true,
        "colab": {
          "base_uri": "https://localhost:8080/",
          "height": 133
        },
        "id": "266ca861",
        "outputId": "223bc241-9f37-4d30-ba6a-04b128be2c2d"
      },
      "outputs": [
        {
          "output_type": "stream",
          "name": "stdout",
          "text": [
            "Zero configuration of end-effector pose: \n",
            "\n"
          ]
        },
        {
          "output_type": "display_data",
          "data": {
            "text/plain": [
              "Matrix([\n",
              "[1, 0, 0, 0],\n",
              "[0, 1, 0, 0],\n",
              "[0, 0, 1, l],\n",
              "[0, 0, 0, 1]])"
            ],
            "text/latex": "$\\displaystyle \\left[\\begin{matrix}1 & 0 & 0 & 0\\\\0 & 1 & 0 & 0\\\\0 & 0 & 1 & l\\\\0 & 0 & 0 & 1\\end{matrix}\\right]$"
          },
          "metadata": {}
        }
      ],
      "source": [
        "l = symbols(\"l\", real=1)  # link lenghts\n",
        "\n",
        "p0e = Matrix([0,0,l])\n",
        "R0e = Matrix(Identity(3))\n",
        "\n",
        "T0e = TransformationMatrix(R0e,p0e)\n",
        "\n",
        "print(\"Zero configuration of end-effector pose: \\n\")\n",
        "display(T0e)"
      ]
    },
    {
      "cell_type": "markdown",
      "id": "495760e9",
      "metadata": {
        "id": "495760e9"
      },
      "source": [
        "## Spatial Representation of Screw axes\n"
      ]
    },
    {
      "cell_type": "code",
      "execution_count": null,
      "id": "de51c27c",
      "metadata": {
        "colab": {
          "base_uri": "https://localhost:8080/",
          "height": 139
        },
        "id": "de51c27c",
        "outputId": "0474c29e-da38-4628-ec2e-0ea8d0024fbd"
      },
      "outputs": [
        {
          "output_type": "display_data",
          "data": {
            "text/plain": [
              "Matrix([\n",
              "[1],\n",
              "[0],\n",
              "[0]])"
            ],
            "text/latex": "$\\displaystyle \\left[\\begin{matrix}1\\\\0\\\\0\\end{matrix}\\right]$"
          },
          "metadata": {}
        },
        {
          "output_type": "display_data",
          "data": {
            "text/plain": [
              "Matrix([\n",
              "[0],\n",
              "[0],\n",
              "[0]])"
            ],
            "text/latex": "$\\displaystyle \\left[\\begin{matrix}0\\\\0\\\\0\\end{matrix}\\right]$"
          },
          "metadata": {}
        }
      ],
      "source": [
        "s1_hat = Matrix([1,0,0])\n",
        "s1_o = Matrix([0,0,0])\n",
        "display(s1_hat,s1_o)"
      ]
    },
    {
      "cell_type": "code",
      "execution_count": null,
      "id": "c9760626",
      "metadata": {
        "colab": {
          "base_uri": "https://localhost:8080/",
          "height": 139
        },
        "id": "c9760626",
        "outputId": "dcf15113-479f-43a8-dec2-8a7f2a33ee76"
      },
      "outputs": [
        {
          "output_type": "display_data",
          "data": {
            "text/plain": [
              "Matrix([\n",
              "[0],\n",
              "[1],\n",
              "[0]])"
            ],
            "text/latex": "$\\displaystyle \\left[\\begin{matrix}0\\\\1\\\\0\\end{matrix}\\right]$"
          },
          "metadata": {}
        },
        {
          "output_type": "display_data",
          "data": {
            "text/plain": [
              "Matrix([\n",
              "[0],\n",
              "[0],\n",
              "[0]])"
            ],
            "text/latex": "$\\displaystyle \\left[\\begin{matrix}0\\\\0\\\\0\\end{matrix}\\right]$"
          },
          "metadata": {}
        }
      ],
      "source": [
        "s2_hat = Matrix([0,1,0])\n",
        "s2_o = Matrix([0,0,0])\n",
        "display(s2_hat,s2_o)"
      ]
    },
    {
      "cell_type": "code",
      "execution_count": null,
      "id": "e3e1f992",
      "metadata": {
        "colab": {
          "base_uri": "https://localhost:8080/",
          "height": 78
        },
        "id": "e3e1f992",
        "outputId": "cfef7b38-b82a-4dc3-9a94-03c9c9dec2c4"
      },
      "outputs": [
        {
          "output_type": "display_data",
          "data": {
            "text/plain": [
              "Matrix([\n",
              "[0],\n",
              "[0],\n",
              "[1]])"
            ],
            "text/latex": "$\\displaystyle \\left[\\begin{matrix}0\\\\0\\\\1\\end{matrix}\\right]$"
          },
          "metadata": {}
        }
      ],
      "source": [
        "s3_hat = Matrix([0,0,1])\n",
        "display(s3_hat)"
      ]
    },
    {
      "cell_type": "markdown",
      "id": "d756a87e",
      "metadata": {
        "id": "d756a87e"
      },
      "source": [
        "## Body-fixed representation of Screws"
      ]
    },
    {
      "cell_type": "code",
      "execution_count": null,
      "id": "5f5eeff7",
      "metadata": {
        "colab": {
          "base_uri": "https://localhost:8080/",
          "height": 330
        },
        "id": "5f5eeff7",
        "outputId": "2fa614c5-44d8-4108-dad6-ba9e892dad84"
      },
      "outputs": [
        {
          "output_type": "stream",
          "name": "stdout",
          "text": [
            "Screw axes (arranged column wise for the joints in spatial representation :\n",
            "\n"
          ]
        },
        {
          "output_type": "display_data",
          "data": {
            "text/plain": [
              "Matrix([\n",
              "[1, 0, 0],\n",
              "[0, 1, 0],\n",
              "[0, 0, 0],\n",
              "[0, 0, 0],\n",
              "[0, 0, 0],\n",
              "[0, 0, 1]])"
            ],
            "text/latex": "$\\displaystyle \\left[\\begin{matrix}1 & 0 & 0\\\\0 & 1 & 0\\\\0 & 0 & 0\\\\0 & 0 & 0\\\\0 & 0 & 0\\\\0 & 0 & 1\\end{matrix}\\right]$"
          },
          "metadata": {}
        },
        {
          "output_type": "stream",
          "name": "stdout",
          "text": [
            "Screw axes (arranged column wise for the joints in body-fixed representation :\n",
            "\n"
          ]
        },
        {
          "output_type": "display_data",
          "data": {
            "text/plain": [
              "Matrix([\n",
              "[ 1, 0, 0],\n",
              "[ 0, 1, 0],\n",
              "[ 0, 0, 0],\n",
              "[ 0, l, 0],\n",
              "[-l, 0, 0],\n",
              "[ 0, 0, 1]])"
            ],
            "text/latex": "$\\displaystyle \\left[\\begin{matrix}1 & 0 & 0\\\\0 & 1 & 0\\\\0 & 0 & 0\\\\0 & l & 0\\\\- l & 0 & 0\\\\0 & 0 & 1\\end{matrix}\\right]$"
          },
          "metadata": {}
        }
      ],
      "source": [
        "S1 = Matrix([s1_hat, s1_o.cross(s1_hat)])\n",
        "S2 = Matrix([s2_hat, s2_o.cross(s2_hat)])\n",
        "S3 = Matrix([Matrix([0,0,0]), s3_hat])\n",
        "S = S1.row_join(S2).row_join(S3)\n",
        "print(\"Screw axes (arranged column wise for the joints in spatial representation :\\n\")\n",
        "display(S)\n",
        "\n",
        "B1 = SE3AdjInvMatrix(T0e)*S1\n",
        "# display(B1)\n",
        "B2 = SE3AdjInvMatrix(T0e)*S2\n",
        "# display(B2)\n",
        "B3 = SE3AdjInvMatrix(T0e)*S3\n",
        "# display(B3)\n",
        "B = B1.row_join(B2).row_join(B3)\n",
        "print(\"Screw axes (arranged column wise for the joints in body-fixed representation :\\n\")\n",
        "display(B)"
      ]
    },
    {
      "cell_type": "markdown",
      "id": "21519060",
      "metadata": {
        "id": "21519060"
      },
      "source": [
        "## Position Analysis\n",
        "\n",
        "### The product of exponential (POE) formula is given by\n",
        "\\begin{equation}\n",
        "  {}^0\\mathbf T_n(\\mathbf q) = {}^0\\mathbf T_n(\\mathbf 0) \\exp([\\mathbf B_1]q_1) \\exp([\\mathbf B_2]q_2) \\ldots \\exp([\\mathbf B_n]q_n)  \n",
        "  \\label{eqn_POE}\n",
        " \\end{equation}\n"
      ]
    },
    {
      "cell_type": "markdown",
      "id": "5cff465b",
      "metadata": {
        "id": "5cff465b"
      },
      "source": [
        "### Define the generalised coordinates for the system, $q_1$ $q_2$ $q_3$"
      ]
    },
    {
      "cell_type": "code",
      "execution_count": null,
      "id": "61034138",
      "metadata": {
        "colab": {
          "base_uri": "https://localhost:8080/",
          "height": 133
        },
        "id": "61034138",
        "outputId": "77a9a58b-0d66-4752-a4d5-1d944f7a64b1"
      },
      "outputs": [
        {
          "output_type": "stream",
          "name": "stdout",
          "text": [
            "Forward kinematics : \n",
            "\n"
          ]
        },
        {
          "output_type": "display_data",
          "data": {
            "text/plain": [
              "Matrix([\n",
              "[         cos(q2),       0,          sin(q2),          (l + q3)*sin(q2)],\n",
              "[ sin(q1)*sin(q2), cos(q1), -sin(q1)*cos(q2), -(l + q3)*sin(q1)*cos(q2)],\n",
              "[-sin(q2)*cos(q1), sin(q1),  cos(q1)*cos(q2),  (l + q3)*cos(q1)*cos(q2)],\n",
              "[               0,       0,                0,                         1]])"
            ],
            "text/latex": "$\\displaystyle \\left[\\begin{matrix}\\cos{\\left(q_{2} \\right)} & 0 & \\sin{\\left(q_{2} \\right)} & \\left(l + q_{3}\\right) \\sin{\\left(q_{2} \\right)}\\\\\\sin{\\left(q_{1} \\right)} \\sin{\\left(q_{2} \\right)} & \\cos{\\left(q_{1} \\right)} & - \\sin{\\left(q_{1} \\right)} \\cos{\\left(q_{2} \\right)} & - \\left(l + q_{3}\\right) \\sin{\\left(q_{1} \\right)} \\cos{\\left(q_{2} \\right)}\\\\- \\sin{\\left(q_{2} \\right)} \\cos{\\left(q_{1} \\right)} & \\sin{\\left(q_{1} \\right)} & \\cos{\\left(q_{1} \\right)} \\cos{\\left(q_{2} \\right)} & \\left(l + q_{3}\\right) \\cos{\\left(q_{1} \\right)} \\cos{\\left(q_{2} \\right)}\\\\0 & 0 & 0 & 1\\end{matrix}\\right]$"
          },
          "metadata": {}
        }
      ],
      "source": [
        "q1, q2, q3 = symbols(\"q1 q2 q3\", real=1)  # joint positions\n",
        "q = Matrix([q1,q2,q3])\n",
        "\n",
        "T0q = simplify( T0e * SE3Exp(B1,q1) * SE3Exp(B2,q2) * SE3Exp(B3,q3))\n",
        "print(\"Forward kinematics : \\n\")\n",
        "display(T0q)"
      ]
    },
    {
      "cell_type": "markdown",
      "id": "da44cf54",
      "metadata": {
        "id": "da44cf54"
      },
      "source": [
        "## Velocity Analysis"
      ]
    },
    {
      "cell_type": "code",
      "execution_count": null,
      "id": "99026dd5",
      "metadata": {
        "colab": {
          "base_uri": "https://localhost:8080/",
          "height": 156
        },
        "id": "99026dd5",
        "outputId": "57cafd10-5274-41b6-fbc6-d7f73655609e"
      },
      "outputs": [
        {
          "output_type": "stream",
          "name": "stdout",
          "text": [
            "Body Jacobian: \n"
          ]
        },
        {
          "output_type": "display_data",
          "data": {
            "text/plain": [
              "Matrix([\n",
              "[          cos(q2),      0, 0],\n",
              "[                0,      1, 0],\n",
              "[          sin(q2),      0, 0],\n",
              "[                0, l + q3, 0],\n",
              "[-(l + q3)*cos(q2),      0, 0],\n",
              "[                0,      0, 1]])"
            ],
            "text/latex": "$\\displaystyle \\left[\\begin{matrix}\\cos{\\left(q_{2} \\right)} & 0 & 0\\\\0 & 1 & 0\\\\\\sin{\\left(q_{2} \\right)} & 0 & 0\\\\0 & l + q_{3} & 0\\\\- \\left(l + q_{3}\\right) \\cos{\\left(q_{2} \\right)} & 0 & 0\\\\0 & 0 & 1\\end{matrix}\\right]$"
          },
          "metadata": {}
        }
      ],
      "source": [
        "Jb_3 = B3\n",
        "Jb_2 = SE3AdjMatrix(SE3Exp(-B3,q3)) * B2\n",
        "Jb_1 = SE3AdjMatrix(SE3Exp(-B3,q3) * SE3Exp(-B2,q2)) * B1\n",
        "Jb = simplify(Jb_1.row_join(Jb_2).row_join(Jb_3))\n",
        "print(\"Body Jacobian: \")\n",
        "display(Jb)"
      ]
    },
    {
      "cell_type": "code",
      "execution_count": null,
      "id": "f6fb7ee7",
      "metadata": {
        "colab": {
          "base_uri": "https://localhost:8080/",
          "height": 348
        },
        "id": "f6fb7ee7",
        "outputId": "b7cc9ef0-fc18-4ab2-8b6e-63310715434a"
      },
      "outputs": [
        {
          "output_type": "stream",
          "name": "stdout",
          "text": [
            "Body Velocities: \n",
            "\n"
          ]
        },
        {
          "output_type": "display_data",
          "data": {
            "text/plain": [
              "Matrix([\n",
              "[          qdot1*cos(q2),           qdot1*cos(q2),           qdot1*cos(q2)],\n",
              "[                      0,                   qdot2,                   qdot2],\n",
              "[          qdot1*sin(q2),           qdot1*sin(q2),           qdot1*sin(q2)],\n",
              "[                      0,          qdot2*(l + q3),          qdot2*(l + q3)],\n",
              "[-qdot1*(l + q3)*cos(q2), -qdot1*(l + q3)*cos(q2), -qdot1*(l + q3)*cos(q2)],\n",
              "[                      0,                       0,                   qdot3]])"
            ],
            "text/latex": "$\\displaystyle \\left[\\begin{matrix}\\dot{q}_{1} \\cos{\\left(q_{2} \\right)} & \\dot{q}_{1} \\cos{\\left(q_{2} \\right)} & \\dot{q}_{1} \\cos{\\left(q_{2} \\right)}\\\\0 & \\dot{q}_{2} & \\dot{q}_{2}\\\\\\dot{q}_{1} \\sin{\\left(q_{2} \\right)} & \\dot{q}_{1} \\sin{\\left(q_{2} \\right)} & \\dot{q}_{1} \\sin{\\left(q_{2} \\right)}\\\\0 & \\dot{q}_{2} \\left(l + q_{3}\\right) & \\dot{q}_{2} \\left(l + q_{3}\\right)\\\\- \\dot{q}_{1} \\left(l + q_{3}\\right) \\cos{\\left(q_{2} \\right)} & - \\dot{q}_{1} \\left(l + q_{3}\\right) \\cos{\\left(q_{2} \\right)} & - \\dot{q}_{1} \\left(l + q_{3}\\right) \\cos{\\left(q_{2} \\right)}\\\\0 & 0 & \\dot{q}_{3}\\end{matrix}\\right]$"
          },
          "metadata": {}
        },
        {
          "output_type": "stream",
          "name": "stdout",
          "text": [
            "\n",
            "Body Velocity of end-effector:\n",
            "\n"
          ]
        },
        {
          "output_type": "display_data",
          "data": {
            "text/plain": [
              "Matrix([\n",
              "[          qdot1*cos(q2)],\n",
              "[                  qdot2],\n",
              "[          qdot1*sin(q2)],\n",
              "[         qdot2*(l + q3)],\n",
              "[-qdot1*(l + q3)*cos(q2)],\n",
              "[                  qdot3]])"
            ],
            "text/latex": "$\\displaystyle \\left[\\begin{matrix}\\dot{q}_{1} \\cos{\\left(q_{2} \\right)}\\\\\\dot{q}_{2}\\\\\\dot{q}_{1} \\sin{\\left(q_{2} \\right)}\\\\\\dot{q}_{2} \\left(l + q_{3}\\right)\\\\- \\dot{q}_{1} \\left(l + q_{3}\\right) \\cos{\\left(q_{2} \\right)}\\\\\\dot{q}_{3}\\end{matrix}\\right]$"
          },
          "metadata": {}
        }
      ],
      "source": [
        "q1d, q2d, q3d = symbols(\"qdot1 qdot2 qdot3\", real=1)  # joint positions\n",
        "qd = Matrix([q1d,q2d,q3d])\n",
        "\n",
        "Vb1 = Jb_1*q1d\n",
        "Vb2 = Vb1 + Jb_2*q2d\n",
        "Vb3 = Vb2 + Jb_3*q3d\n",
        "print(\"Body Velocities: \\n\")\n",
        "display(simplify(Vb1.row_join(Vb2).row_join(Vb3)))\n",
        "print(\"\\nBody Velocity of end-effector:\\n\")\n",
        "Vb = simplify(Jb*qd)\n",
        "display(Vb)"
      ]
    },
    {
      "cell_type": "markdown",
      "id": "5e090170",
      "metadata": {
        "id": "5e090170"
      },
      "source": [
        "## Acceleration Analysis"
      ]
    },
    {
      "cell_type": "code",
      "execution_count": null,
      "id": "719b3196",
      "metadata": {
        "colab": {
          "base_uri": "https://localhost:8080/",
          "height": 156
        },
        "id": "719b3196",
        "outputId": "f2c149e2-23cd-467a-bd9c-574c985eb27a"
      },
      "outputs": [
        {
          "output_type": "stream",
          "name": "stdout",
          "text": [
            "Body Jacobian derivative (Jb_dot)\n"
          ]
        },
        {
          "output_type": "display_data",
          "data": {
            "text/plain": [
              "Matrix([\n",
              "[                        -qdot2*sin(q2),     0, 0],\n",
              "[                                     0,     0, 0],\n",
              "[                         qdot2*cos(q2),     0, 0],\n",
              "[                                     0, qdot3, 0],\n",
              "[qdot2*(l + q3)*sin(q2) - qdot3*cos(q2),     0, 0],\n",
              "[                                     0,     0, 0]])"
            ],
            "text/latex": "$\\displaystyle \\left[\\begin{matrix}- \\dot{q}_{2} \\sin{\\left(q_{2} \\right)} & 0 & 0\\\\0 & 0 & 0\\\\\\dot{q}_{2} \\cos{\\left(q_{2} \\right)} & 0 & 0\\\\0 & \\dot{q}_{3} & 0\\\\\\dot{q}_{2} \\left(l + q_{3}\\right) \\sin{\\left(q_{2} \\right)} - \\dot{q}_{3} \\cos{\\left(q_{2} \\right)} & 0 & 0\\\\0 & 0 & 0\\end{matrix}\\right]$"
          },
          "metadata": {}
        }
      ],
      "source": [
        "q1dd, q2dd, q3dd = symbols(\"qddot1 qddot2 qddot3\", real=1)  # joint positions\n",
        "qdd = Matrix([q1dd,q2dd,q3dd])\n",
        "\n",
        " \n",
        "Jbdot1 = - SE3adMatrix(Vb3) * Jb_1 \n",
        "Jbdot2 = - SE3adMatrix(Vb3) * Jb_2 + SE3adMatrix(Vb2)*Jb_2 \n",
        "Jbdot3 = zeros(6,1)\n",
        "\n",
        "Jbdot = simplify(Jbdot1.row_join(Jbdot2).row_join(Jbdot3))\n",
        "print(\"Body Jacobian derivative (Jb_dot)\")\n",
        "display(Jbdot)\n"
      ]
    },
    {
      "cell_type": "code",
      "execution_count": null,
      "id": "783d2c60",
      "metadata": {
        "colab": {
          "base_uri": "https://localhost:8080/",
          "height": 313
        },
        "id": "783d2c60",
        "outputId": "d15d14ff-e88f-45d1-9f20-c5d7efed424a"
      },
      "outputs": [
        {
          "output_type": "stream",
          "name": "stdout",
          "text": [
            "Body Accelerations: \n"
          ]
        },
        {
          "output_type": "display_data",
          "data": {
            "text/plain": [
              "Matrix([\n",
              "[                                     qddot1*cos(q2) - qdot1*qdot2*sin(q2),                                      qddot1*cos(q2) - qdot1*qdot2*sin(q2),                                      qddot1*cos(q2) - qdot1*qdot2*sin(q2)],\n",
              "[                                                                        0,                                                                    qddot2,                                                                    qddot2],\n",
              "[                                     qddot1*sin(q2) + qdot1*qdot2*cos(q2),                                      qddot1*sin(q2) + qdot1*qdot2*cos(q2),                                      qddot1*sin(q2) + qdot1*qdot2*cos(q2)],\n",
              "[                                                                        0,                                             qddot2*(l + q3) + qdot2*qdot3,                                             qddot2*(l + q3) + qdot2*qdot3],\n",
              "[-qddot1*(l + q3)*cos(q2) + qdot1*(qdot2*(l + q3)*sin(q2) - qdot3*cos(q2)), -qddot1*(l + q3)*cos(q2) + qdot1*(qdot2*(l + q3)*sin(q2) - qdot3*cos(q2)), -qddot1*(l + q3)*cos(q2) + qdot1*(qdot2*(l + q3)*sin(q2) - qdot3*cos(q2))],\n",
              "[                                                                        0,                                                                         0,                                                                    qddot3]])"
            ],
            "text/latex": "$\\displaystyle \\left[\\begin{matrix}\\ddot{q}_{1} \\cos{\\left(q_{2} \\right)} - \\dot{q}_{1} \\dot{q}_{2} \\sin{\\left(q_{2} \\right)} & \\ddot{q}_{1} \\cos{\\left(q_{2} \\right)} - \\dot{q}_{1} \\dot{q}_{2} \\sin{\\left(q_{2} \\right)} & \\ddot{q}_{1} \\cos{\\left(q_{2} \\right)} - \\dot{q}_{1} \\dot{q}_{2} \\sin{\\left(q_{2} \\right)}\\\\0 & \\ddot{q}_{2} & \\ddot{q}_{2}\\\\\\ddot{q}_{1} \\sin{\\left(q_{2} \\right)} + \\dot{q}_{1} \\dot{q}_{2} \\cos{\\left(q_{2} \\right)} & \\ddot{q}_{1} \\sin{\\left(q_{2} \\right)} + \\dot{q}_{1} \\dot{q}_{2} \\cos{\\left(q_{2} \\right)} & \\ddot{q}_{1} \\sin{\\left(q_{2} \\right)} + \\dot{q}_{1} \\dot{q}_{2} \\cos{\\left(q_{2} \\right)}\\\\0 & \\ddot{q}_{2} \\left(l + q_{3}\\right) + \\dot{q}_{2} \\dot{q}_{3} & \\ddot{q}_{2} \\left(l + q_{3}\\right) + \\dot{q}_{2} \\dot{q}_{3}\\\\- \\ddot{q}_{1} \\left(l + q_{3}\\right) \\cos{\\left(q_{2} \\right)} + \\dot{q}_{1} \\left(\\dot{q}_{2} \\left(l + q_{3}\\right) \\sin{\\left(q_{2} \\right)} - \\dot{q}_{3} \\cos{\\left(q_{2} \\right)}\\right) & - \\ddot{q}_{1} \\left(l + q_{3}\\right) \\cos{\\left(q_{2} \\right)} + \\dot{q}_{1} \\left(\\dot{q}_{2} \\left(l + q_{3}\\right) \\sin{\\left(q_{2} \\right)} - \\dot{q}_{3} \\cos{\\left(q_{2} \\right)}\\right) & - \\ddot{q}_{1} \\left(l + q_{3}\\right) \\cos{\\left(q_{2} \\right)} + \\dot{q}_{1} \\left(\\dot{q}_{2} \\left(l + q_{3}\\right) \\sin{\\left(q_{2} \\right)} - \\dot{q}_{3} \\cos{\\left(q_{2} \\right)}\\right)\\\\0 & 0 & \\ddot{q}_{3}\\end{matrix}\\right]$"
          },
          "metadata": {}
        },
        {
          "output_type": "stream",
          "name": "stdout",
          "text": [
            "\n",
            " Body acceleration of end-effector\n"
          ]
        },
        {
          "output_type": "display_data",
          "data": {
            "text/plain": [
              "Matrix([\n",
              "[                                     qddot1*cos(q2) - qdot1*qdot2*sin(q2)],\n",
              "[                                                                   qddot2],\n",
              "[                                     qddot1*sin(q2) + qdot1*qdot2*cos(q2)],\n",
              "[                                            qddot2*(l + q3) + qdot2*qdot3],\n",
              "[-qddot1*(l + q3)*cos(q2) + qdot1*(qdot2*(l + q3)*sin(q2) - qdot3*cos(q2))],\n",
              "[                                                                   qddot3]])"
            ],
            "text/latex": "$\\displaystyle \\left[\\begin{matrix}\\ddot{q}_{1} \\cos{\\left(q_{2} \\right)} - \\dot{q}_{1} \\dot{q}_{2} \\sin{\\left(q_{2} \\right)}\\\\\\ddot{q}_{2}\\\\\\ddot{q}_{1} \\sin{\\left(q_{2} \\right)} + \\dot{q}_{1} \\dot{q}_{2} \\cos{\\left(q_{2} \\right)}\\\\\\ddot{q}_{2} \\left(l + q_{3}\\right) + \\dot{q}_{2} \\dot{q}_{3}\\\\- \\ddot{q}_{1} \\left(l + q_{3}\\right) \\cos{\\left(q_{2} \\right)} + \\dot{q}_{1} \\left(\\dot{q}_{2} \\left(l + q_{3}\\right) \\sin{\\left(q_{2} \\right)} - \\dot{q}_{3} \\cos{\\left(q_{2} \\right)}\\right)\\\\\\ddot{q}_{3}\\end{matrix}\\right]$"
          },
          "metadata": {}
        }
      ],
      "source": [
        "Vbdot1 = Jb_1*q1dd + Jbdot1 * q1d\n",
        "Vbdot2 = Vbdot1 + Jb_2*q2dd + Jbdot2 * q2d\n",
        "Vbdot3 = Vbdot2 + Jb_3*q3dd + Jbdot3 * q3d\n",
        "\n",
        "print(\"Body Accelerations: \")\n",
        "display(simplify(Vbdot1.row_join(Vbdot2).row_join(Vbdot3)))\n",
        "\n",
        "Vbdot = Jb*qdd + Jbdot*qd\n",
        "print(\"\\n Body acceleration of end-effector\")\n",
        "display(simplify(Vbdot))"
      ]
    },
    {
      "cell_type": "markdown",
      "id": "512d0fd1",
      "metadata": {
        "id": "512d0fd1"
      },
      "source": [
        "## Relationship with spatial representaion"
      ]
    },
    {
      "cell_type": "code",
      "execution_count": null,
      "id": "02523908",
      "metadata": {
        "colab": {
          "base_uri": "https://localhost:8080/",
          "height": 174
        },
        "id": "02523908",
        "outputId": "ad574aa5-f6e2-4470-8e70-e4a1b2430304"
      },
      "outputs": [
        {
          "output_type": "stream",
          "name": "stdout",
          "text": [
            "Spatial Jacobian: \n",
            "\n"
          ]
        },
        {
          "output_type": "display_data",
          "data": {
            "text/plain": [
              "Matrix([\n",
              "[1,       0,                0],\n",
              "[0, cos(q1),                0],\n",
              "[0, sin(q1),                0],\n",
              "[0,       0,          sin(q2)],\n",
              "[0,       0, -sin(q1)*cos(q2)],\n",
              "[0,       0,  cos(q1)*cos(q2)]])"
            ],
            "text/latex": "$\\displaystyle \\left[\\begin{matrix}1 & 0 & 0\\\\0 & \\cos{\\left(q_{1} \\right)} & 0\\\\0 & \\sin{\\left(q_{1} \\right)} & 0\\\\0 & 0 & \\sin{\\left(q_{2} \\right)}\\\\0 & 0 & - \\sin{\\left(q_{1} \\right)} \\cos{\\left(q_{2} \\right)}\\\\0 & 0 & \\cos{\\left(q_{1} \\right)} \\cos{\\left(q_{2} \\right)}\\end{matrix}\\right]$"
          },
          "metadata": {}
        }
      ],
      "source": [
        "Js = SE3AdjMatrix(T0q)*Jb\n",
        "print(\"Spatial Jacobian: \\n\")\n",
        "display(simplify(Js))"
      ]
    },
    {
      "cell_type": "code",
      "execution_count": null,
      "id": "22eaa956",
      "metadata": {
        "colab": {
          "base_uri": "https://localhost:8080/",
          "height": 156
        },
        "id": "22eaa956",
        "outputId": "85901854-633a-4ce8-eeaa-e9f533a45221"
      },
      "outputs": [
        {
          "output_type": "stream",
          "name": "stdout",
          "text": [
            "Spatial acceleration of end-effector\n"
          ]
        },
        {
          "output_type": "display_data",
          "data": {
            "text/plain": [
              "Matrix([\n",
              "[                                                                             qddot1],\n",
              "[                                               qddot2*cos(q1) - qdot1*qdot2*sin(q1)],\n",
              "[                                               qddot2*sin(q1) + qdot1*qdot2*cos(q1)],\n",
              "[                                               qddot3*sin(q2) + qdot2*qdot3*cos(q2)],\n",
              "[-qddot3*sin(q1)*cos(q2) - qdot1*qdot3*cos(q1)*cos(q2) + qdot2*qdot3*sin(q1)*sin(q2)],\n",
              "[ qddot3*cos(q1)*cos(q2) - qdot1*qdot3*sin(q1)*cos(q2) - qdot2*qdot3*sin(q2)*cos(q1)]])"
            ],
            "text/latex": "$\\displaystyle \\left[\\begin{matrix}\\ddot{q}_{1}\\\\\\ddot{q}_{2} \\cos{\\left(q_{1} \\right)} - \\dot{q}_{1} \\dot{q}_{2} \\sin{\\left(q_{1} \\right)}\\\\\\ddot{q}_{2} \\sin{\\left(q_{1} \\right)} + \\dot{q}_{1} \\dot{q}_{2} \\cos{\\left(q_{1} \\right)}\\\\\\ddot{q}_{3} \\sin{\\left(q_{2} \\right)} + \\dot{q}_{2} \\dot{q}_{3} \\cos{\\left(q_{2} \\right)}\\\\- \\ddot{q}_{3} \\sin{\\left(q_{1} \\right)} \\cos{\\left(q_{2} \\right)} - \\dot{q}_{1} \\dot{q}_{3} \\cos{\\left(q_{1} \\right)} \\cos{\\left(q_{2} \\right)} + \\dot{q}_{2} \\dot{q}_{3} \\sin{\\left(q_{1} \\right)} \\sin{\\left(q_{2} \\right)}\\\\\\ddot{q}_{3} \\cos{\\left(q_{1} \\right)} \\cos{\\left(q_{2} \\right)} - \\dot{q}_{1} \\dot{q}_{3} \\sin{\\left(q_{1} \\right)} \\cos{\\left(q_{2} \\right)} - \\dot{q}_{2} \\dot{q}_{3} \\sin{\\left(q_{2} \\right)} \\cos{\\left(q_{1} \\right)}\\end{matrix}\\right]$"
          },
          "metadata": {}
        }
      ],
      "source": [
        "Vsdot= SE3AdjMatrix(T0q)*Vbdot\n",
        "print(\"Spatial acceleration of end-effector\")\n",
        "display(simplify(Vsdot))"
      ]
    },
    {
      "cell_type": "markdown",
      "id": "06a45b2c",
      "metadata": {
        "id": "06a45b2c"
      },
      "source": [
        "## Relationship with Analytical expressions or Hybrid Jacobian"
      ]
    },
    {
      "cell_type": "code",
      "execution_count": null,
      "id": "1939d439",
      "metadata": {
        "colab": {
          "base_uri": "https://localhost:8080/",
          "height": 348
        },
        "id": "1939d439",
        "outputId": "04e9400a-510c-4e58-f26c-a6d832a5c79d"
      },
      "outputs": [
        {
          "output_type": "stream",
          "name": "stdout",
          "text": [
            "Analytical Jacobian: \n",
            "\n"
          ]
        },
        {
          "output_type": "display_data",
          "data": {
            "text/plain": [
              "Matrix([\n",
              "[                        1,                         0,                0],\n",
              "[                        0,                   cos(q1),                0],\n",
              "[                        0,                   sin(q1),                0],\n",
              "[                        0,          (l + q3)*cos(q2),          sin(q2)],\n",
              "[-(l + q3)*cos(q1)*cos(q2),  (l + q3)*sin(q1)*sin(q2), -sin(q1)*cos(q2)],\n",
              "[-(l + q3)*sin(q1)*cos(q2), -(l + q3)*sin(q2)*cos(q1),  cos(q1)*cos(q2)]])"
            ],
            "text/latex": "$\\displaystyle \\left[\\begin{matrix}1 & 0 & 0\\\\0 & \\cos{\\left(q_{1} \\right)} & 0\\\\0 & \\sin{\\left(q_{1} \\right)} & 0\\\\0 & \\left(l + q_{3}\\right) \\cos{\\left(q_{2} \\right)} & \\sin{\\left(q_{2} \\right)}\\\\- \\left(l + q_{3}\\right) \\cos{\\left(q_{1} \\right)} \\cos{\\left(q_{2} \\right)} & \\left(l + q_{3}\\right) \\sin{\\left(q_{1} \\right)} \\sin{\\left(q_{2} \\right)} & - \\sin{\\left(q_{1} \\right)} \\cos{\\left(q_{2} \\right)}\\\\- \\left(l + q_{3}\\right) \\sin{\\left(q_{1} \\right)} \\cos{\\left(q_{2} \\right)} & - \\left(l + q_{3}\\right) \\sin{\\left(q_{2} \\right)} \\cos{\\left(q_{1} \\right)} & \\cos{\\left(q_{1} \\right)} \\cos{\\left(q_{2} \\right)}\\end{matrix}\\right]$"
          },
          "metadata": {}
        },
        {
          "output_type": "stream",
          "name": "stdout",
          "text": [
            "\n",
            " Analytical Velocity of end-effector: \n",
            "\n"
          ]
        },
        {
          "output_type": "display_data",
          "data": {
            "text/plain": [
              "Matrix([\n",
              "[                                                                                   qdot1],\n",
              "[                                                                           qdot2*cos(q1)],\n",
              "[                                                                           qdot2*sin(q1)],\n",
              "[                                                  qdot2*(l + q3)*cos(q2) + qdot3*sin(q2)],\n",
              "[-qdot1*(l + q3)*cos(q1)*cos(q2) + qdot2*(l + q3)*sin(q1)*sin(q2) - qdot3*sin(q1)*cos(q2)],\n",
              "[-qdot1*(l + q3)*sin(q1)*cos(q2) - qdot2*(l + q3)*sin(q2)*cos(q1) + qdot3*cos(q1)*cos(q2)]])"
            ],
            "text/latex": "$\\displaystyle \\left[\\begin{matrix}\\dot{q}_{1}\\\\\\dot{q}_{2} \\cos{\\left(q_{1} \\right)}\\\\\\dot{q}_{2} \\sin{\\left(q_{1} \\right)}\\\\\\dot{q}_{2} \\left(l + q_{3}\\right) \\cos{\\left(q_{2} \\right)} + \\dot{q}_{3} \\sin{\\left(q_{2} \\right)}\\\\- \\dot{q}_{1} \\left(l + q_{3}\\right) \\cos{\\left(q_{1} \\right)} \\cos{\\left(q_{2} \\right)} + \\dot{q}_{2} \\left(l + q_{3}\\right) \\sin{\\left(q_{1} \\right)} \\sin{\\left(q_{2} \\right)} - \\dot{q}_{3} \\sin{\\left(q_{1} \\right)} \\cos{\\left(q_{2} \\right)}\\\\- \\dot{q}_{1} \\left(l + q_{3}\\right) \\sin{\\left(q_{1} \\right)} \\cos{\\left(q_{2} \\right)} - \\dot{q}_{2} \\left(l + q_{3}\\right) \\sin{\\left(q_{2} \\right)} \\cos{\\left(q_{1} \\right)} + \\dot{q}_{3} \\cos{\\left(q_{1} \\right)} \\cos{\\left(q_{2} \\right)}\\end{matrix}\\right]$"
          },
          "metadata": {}
        }
      ],
      "source": [
        "# HYBRID JACOBIAN OR ANALYTICAL JACOBIAN\n",
        "a = T0q[0:3,0:3].row_join(zeros(3,3))\n",
        "b = zeros(3,3).row_join(T0q[0:3,0:3])\n",
        "c = a.col_join(b)\n",
        "Jh = c*Jb\n",
        "print(\"Analytical Jacobian: \\n\")\n",
        "display(simplify(Jh))\n",
        "Vh = simplify(Jh*qd)\n",
        "print(\"\\n Analytical Velocity of end-effector: \\n\")\n",
        "display(Vh)"
      ]
    },
    {
      "cell_type": "code",
      "execution_count": null,
      "id": "dba4212c",
      "metadata": {
        "colab": {
          "base_uri": "https://localhost:8080/",
          "height": 348
        },
        "id": "dba4212c",
        "outputId": "09e90478-23d5-4e6d-9e70-64396e04888f"
      },
      "outputs": [
        {
          "output_type": "stream",
          "name": "stdout",
          "text": [
            "Analytical Jacobian dot: \n",
            "\n"
          ]
        },
        {
          "output_type": "display_data",
          "data": {
            "text/plain": [
              "Matrix([\n",
              "[                                                                                 0,                                                                                 0,                                              0],\n",
              "[                                                                                 0,                                                                    -qdot1*sin(q1),                                              0],\n",
              "[                                                                                 0,                                                                     qdot1*cos(q1),                                              0],\n",
              "[                                                                                 0,                                           -qdot2*(l + q3)*sin(q2) + qdot3*cos(q2),                                  qdot2*cos(q2)],\n",
              "[ qdot1*(l + q3)*sin(q1)*cos(q2) + (qdot2*(l + q3)*sin(q2) - qdot3*cos(q2))*cos(q1),  qdot3*sin(q1)*sin(q2) + (l + q3)*(qdot1*sin(q2)*cos(q1) + qdot2*sin(q1)*cos(q2)), -qdot1*cos(q1)*cos(q2) + qdot2*sin(q1)*sin(q2)],\n",
              "[-qdot1*(l + q3)*cos(q1)*cos(q2) + (qdot2*(l + q3)*sin(q2) - qdot3*cos(q2))*sin(q1), -qdot3*sin(q2)*cos(q1) + (l + q3)*(qdot1*sin(q1)*sin(q2) - qdot2*cos(q1)*cos(q2)), -qdot1*sin(q1)*cos(q2) - qdot2*sin(q2)*cos(q1)]])"
            ],
            "text/latex": "$\\displaystyle \\left[\\begin{matrix}0 & 0 & 0\\\\0 & - \\dot{q}_{1} \\sin{\\left(q_{1} \\right)} & 0\\\\0 & \\dot{q}_{1} \\cos{\\left(q_{1} \\right)} & 0\\\\0 & - \\dot{q}_{2} \\left(l + q_{3}\\right) \\sin{\\left(q_{2} \\right)} + \\dot{q}_{3} \\cos{\\left(q_{2} \\right)} & \\dot{q}_{2} \\cos{\\left(q_{2} \\right)}\\\\\\dot{q}_{1} \\left(l + q_{3}\\right) \\sin{\\left(q_{1} \\right)} \\cos{\\left(q_{2} \\right)} + \\left(\\dot{q}_{2} \\left(l + q_{3}\\right) \\sin{\\left(q_{2} \\right)} - \\dot{q}_{3} \\cos{\\left(q_{2} \\right)}\\right) \\cos{\\left(q_{1} \\right)} & \\dot{q}_{3} \\sin{\\left(q_{1} \\right)} \\sin{\\left(q_{2} \\right)} + \\left(l + q_{3}\\right) \\left(\\dot{q}_{1} \\sin{\\left(q_{2} \\right)} \\cos{\\left(q_{1} \\right)} + \\dot{q}_{2} \\sin{\\left(q_{1} \\right)} \\cos{\\left(q_{2} \\right)}\\right) & - \\dot{q}_{1} \\cos{\\left(q_{1} \\right)} \\cos{\\left(q_{2} \\right)} + \\dot{q}_{2} \\sin{\\left(q_{1} \\right)} \\sin{\\left(q_{2} \\right)}\\\\- \\dot{q}_{1} \\left(l + q_{3}\\right) \\cos{\\left(q_{1} \\right)} \\cos{\\left(q_{2} \\right)} + \\left(\\dot{q}_{2} \\left(l + q_{3}\\right) \\sin{\\left(q_{2} \\right)} - \\dot{q}_{3} \\cos{\\left(q_{2} \\right)}\\right) \\sin{\\left(q_{1} \\right)} & - \\dot{q}_{3} \\sin{\\left(q_{2} \\right)} \\cos{\\left(q_{1} \\right)} + \\left(l + q_{3}\\right) \\left(\\dot{q}_{1} \\sin{\\left(q_{1} \\right)} \\sin{\\left(q_{2} \\right)} - \\dot{q}_{2} \\cos{\\left(q_{1} \\right)} \\cos{\\left(q_{2} \\right)}\\right) & - \\dot{q}_{1} \\sin{\\left(q_{1} \\right)} \\cos{\\left(q_{2} \\right)} - \\dot{q}_{2} \\sin{\\left(q_{2} \\right)} \\cos{\\left(q_{1} \\right)}\\end{matrix}\\right]$"
          },
          "metadata": {}
        },
        {
          "output_type": "stream",
          "name": "stdout",
          "text": [
            "\n",
            " Analytical acceleration of end-effector: \n",
            "\n"
          ]
        },
        {
          "output_type": "display_data",
          "data": {
            "text/plain": [
              "Matrix([\n",
              "[                                                                                                                                                                                                                                                                                                                                    qddot1],\n",
              "[                                                                                                                                                                                                                                                                                                      qddot2*cos(q1) - qdot1*qdot2*sin(q1)],\n",
              "[                                                                                                                                                                                                                                                                                                      qddot2*sin(q1) + qdot1*qdot2*cos(q1)],\n",
              "[                                                                                                                                                                                                                          qddot2*(l + q3)*cos(q2) + qddot3*sin(q2) + qdot2*qdot3*cos(q2) + qdot2*(-qdot2*(l + q3)*sin(q2) + qdot3*cos(q2))],\n",
              "[-qddot1*(l + q3)*cos(q1)*cos(q2) + qddot2*(l + q3)*sin(q1)*sin(q2) - qddot3*sin(q1)*cos(q2) + qdot1*(qdot1*(l + q3)*sin(q1)*cos(q2) + (qdot2*(l + q3)*sin(q2) - qdot3*cos(q2))*cos(q1)) + qdot2*(qdot3*sin(q1)*sin(q2) + (l + q3)*(qdot1*sin(q2)*cos(q1) + qdot2*sin(q1)*cos(q2))) - qdot3*(qdot1*cos(q1)*cos(q2) - qdot2*sin(q1)*sin(q2))],\n",
              "[-qddot1*(l + q3)*sin(q1)*cos(q2) - qddot2*(l + q3)*sin(q2)*cos(q1) + qddot3*cos(q1)*cos(q2) - qdot1*(qdot1*(l + q3)*cos(q1)*cos(q2) - (qdot2*(l + q3)*sin(q2) - qdot3*cos(q2))*sin(q1)) - qdot2*(qdot3*sin(q2)*cos(q1) - (l + q3)*(qdot1*sin(q1)*sin(q2) - qdot2*cos(q1)*cos(q2))) - qdot3*(qdot1*sin(q1)*cos(q2) + qdot2*sin(q2)*cos(q1))]])"
            ],
            "text/latex": "$\\displaystyle \\left[\\begin{matrix}\\ddot{q}_{1}\\\\\\ddot{q}_{2} \\cos{\\left(q_{1} \\right)} - \\dot{q}_{1} \\dot{q}_{2} \\sin{\\left(q_{1} \\right)}\\\\\\ddot{q}_{2} \\sin{\\left(q_{1} \\right)} + \\dot{q}_{1} \\dot{q}_{2} \\cos{\\left(q_{1} \\right)}\\\\\\ddot{q}_{2} \\left(l + q_{3}\\right) \\cos{\\left(q_{2} \\right)} + \\ddot{q}_{3} \\sin{\\left(q_{2} \\right)} + \\dot{q}_{2} \\dot{q}_{3} \\cos{\\left(q_{2} \\right)} + \\dot{q}_{2} \\left(- \\dot{q}_{2} \\left(l + q_{3}\\right) \\sin{\\left(q_{2} \\right)} + \\dot{q}_{3} \\cos{\\left(q_{2} \\right)}\\right)\\\\- \\ddot{q}_{1} \\left(l + q_{3}\\right) \\cos{\\left(q_{1} \\right)} \\cos{\\left(q_{2} \\right)} + \\ddot{q}_{2} \\left(l + q_{3}\\right) \\sin{\\left(q_{1} \\right)} \\sin{\\left(q_{2} \\right)} - \\ddot{q}_{3} \\sin{\\left(q_{1} \\right)} \\cos{\\left(q_{2} \\right)} + \\dot{q}_{1} \\left(\\dot{q}_{1} \\left(l + q_{3}\\right) \\sin{\\left(q_{1} \\right)} \\cos{\\left(q_{2} \\right)} + \\left(\\dot{q}_{2} \\left(l + q_{3}\\right) \\sin{\\left(q_{2} \\right)} - \\dot{q}_{3} \\cos{\\left(q_{2} \\right)}\\right) \\cos{\\left(q_{1} \\right)}\\right) + \\dot{q}_{2} \\left(\\dot{q}_{3} \\sin{\\left(q_{1} \\right)} \\sin{\\left(q_{2} \\right)} + \\left(l + q_{3}\\right) \\left(\\dot{q}_{1} \\sin{\\left(q_{2} \\right)} \\cos{\\left(q_{1} \\right)} + \\dot{q}_{2} \\sin{\\left(q_{1} \\right)} \\cos{\\left(q_{2} \\right)}\\right)\\right) - \\dot{q}_{3} \\left(\\dot{q}_{1} \\cos{\\left(q_{1} \\right)} \\cos{\\left(q_{2} \\right)} - \\dot{q}_{2} \\sin{\\left(q_{1} \\right)} \\sin{\\left(q_{2} \\right)}\\right)\\\\- \\ddot{q}_{1} \\left(l + q_{3}\\right) \\sin{\\left(q_{1} \\right)} \\cos{\\left(q_{2} \\right)} - \\ddot{q}_{2} \\left(l + q_{3}\\right) \\sin{\\left(q_{2} \\right)} \\cos{\\left(q_{1} \\right)} + \\ddot{q}_{3} \\cos{\\left(q_{1} \\right)} \\cos{\\left(q_{2} \\right)} - \\dot{q}_{1} \\left(\\dot{q}_{1} \\left(l + q_{3}\\right) \\cos{\\left(q_{1} \\right)} \\cos{\\left(q_{2} \\right)} - \\left(\\dot{q}_{2} \\left(l + q_{3}\\right) \\sin{\\left(q_{2} \\right)} - \\dot{q}_{3} \\cos{\\left(q_{2} \\right)}\\right) \\sin{\\left(q_{1} \\right)}\\right) - \\dot{q}_{2} \\left(\\dot{q}_{3} \\sin{\\left(q_{2} \\right)} \\cos{\\left(q_{1} \\right)} - \\left(l + q_{3}\\right) \\left(\\dot{q}_{1} \\sin{\\left(q_{1} \\right)} \\sin{\\left(q_{2} \\right)} - \\dot{q}_{2} \\cos{\\left(q_{1} \\right)} \\cos{\\left(q_{2} \\right)}\\right)\\right) - \\dot{q}_{3} \\left(\\dot{q}_{1} \\sin{\\left(q_{1} \\right)} \\cos{\\left(q_{2} \\right)} + \\dot{q}_{2} \\sin{\\left(q_{2} \\right)} \\cos{\\left(q_{1} \\right)}\\right)\\end{matrix}\\right]$"
          },
          "metadata": {}
        }
      ],
      "source": [
        "# HYBRID JACOBIAN_dot OR ANALYTICAL JACOBIAN_dot\n",
        "adjoint_twist = Vh[0:3,:].col_join(zeros(3,1))\n",
        "Jhdot = c*Jbdot + SE3adMatrix(adjoint_twist) * c * Jb\n",
        "print(\"Analytical Jacobian dot: \\n\")\n",
        "display(simplify(Jhdot))\n",
        "Vhdot = Jh*qdd + Jhdot*qd\n",
        "print(\"\\n Analytical acceleration of end-effector: \\n\")\n",
        "display(simplify(Vhdot))"
      ]
    },
    {
      "cell_type": "code",
      "execution_count": null,
      "id": "39a3a92d",
      "metadata": {
        "id": "39a3a92d"
      },
      "outputs": [],
      "source": [
        ""
      ]
    },
    {
      "cell_type": "code",
      "execution_count": null,
      "id": "4589bb5a",
      "metadata": {
        "id": "4589bb5a"
      },
      "outputs": [],
      "source": [
        ""
      ]
    }
  ],
  "metadata": {
    "kernelspec": {
      "display_name": "Python 3 (ipykernel)",
      "language": "python",
      "name": "python3"
    },
    "language_info": {
      "codemirror_mode": {
        "name": "ipython",
        "version": 3
      },
      "file_extension": ".py",
      "mimetype": "text/x-python",
      "name": "python",
      "nbconvert_exporter": "python",
      "pygments_lexer": "ipython3",
      "version": "3.8.10"
    },
    "colab": {
      "name": "Kinematic Analysis of RRP robot - Body fixed Representation.ipynb",
      "provenance": [],
      "collapsed_sections": [
        "04af1308"
      ],
      "include_colab_link": true
    }
  },
  "nbformat": 4,
  "nbformat_minor": 5
}